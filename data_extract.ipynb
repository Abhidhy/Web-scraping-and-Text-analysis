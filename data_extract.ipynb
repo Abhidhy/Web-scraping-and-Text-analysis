{
 "cells": [
  {
   "cell_type": "code",
   "execution_count": null,
   "id": "74ae49aa",
   "metadata": {},
   "outputs": [],
   "source": [
    "#!pip install selenium"
   ]
  },
  {
   "cell_type": "code",
   "execution_count": 8,
   "id": "183cab6e",
   "metadata": {},
   "outputs": [
    {
     "name": "stdout",
     "output_type": "stream",
     "text": [
      "Requirement already satisfied: beautifulsoup4 in c:\\users\\abhimanyu\\anaconda\\lib\\site-packages (4.11.1)\n",
      "Requirement already satisfied: soupsieve>1.2 in c:\\users\\abhimanyu\\anaconda\\lib\\site-packages (from beautifulsoup4) (2.3.1)\n",
      "Note: you may need to restart the kernel to use updated packages.\n"
     ]
    }
   ],
   "source": [
    "# pip install beautifulsoup4"
   ]
  },
  {
   "cell_type": "code",
   "execution_count": 50,
   "id": "7f9dbee9",
   "metadata": {},
   "outputs": [],
   "source": [
    "import os\n",
    "import selenium\n",
    "from selenium import webdriver\n",
    "import time\n",
    "from PIL import Image\n",
    "import io\n",
    "import requests\n",
    "import pandas as pd\n",
    "import time\n",
    "from bs4 import BeautifulSoup\n",
    "import re"
   ]
  },
  {
   "cell_type": "code",
   "execution_count": 2,
   "id": "68b5864f",
   "metadata": {},
   "outputs": [],
   "source": [
    "df=pd.read_excel(r'Input.xlsx')\n",
    "link_lst=df['URL'].unique()"
   ]
  },
  {
   "cell_type": "code",
   "execution_count": 3,
   "id": "157f7be7",
   "metadata": {},
   "outputs": [
    {
     "data": {
      "text/plain": [
       "114"
      ]
     },
     "execution_count": 3,
     "metadata": {},
     "output_type": "execute_result"
    }
   ],
   "source": [
    "len(link_lst)"
   ]
  },
  {
   "cell_type": "code",
   "execution_count": 13,
   "id": "7f7905f8",
   "metadata": {},
   "outputs": [],
   "source": [
    "url='https://insights.blackcoffer.com/ai-in-healthcare-to-improve-patient-outcomes/'"
   ]
  },
  {
   "cell_type": "code",
   "execution_count": 14,
   "id": "5ced15ab",
   "metadata": {},
   "outputs": [],
   "source": [
    "driver=webdriver.Chrome()\n",
    "driver.get(url)\n",
    "time.sleep(5)\n",
    "content=driver.page_source\n",
    "soup=BeautifulSoup(content,'html.parser')\n",
    "header=soup.find('div',class_='td-parallax-header')\n",
    "main_header=header.find('h1',class_='entry-title').text"
   ]
  },
  {
   "cell_type": "code",
   "execution_count": 15,
   "id": "b54db22c",
   "metadata": {},
   "outputs": [
    {
     "data": {
      "text/plain": [
       "'AI in healthcare to Improve Patient Outcomes'"
      ]
     },
     "execution_count": 15,
     "metadata": {},
     "output_type": "execute_result"
    }
   ],
   "source": [
    "main_header"
   ]
  },
  {
   "cell_type": "code",
   "execution_count": 16,
   "id": "1c1b045f",
   "metadata": {},
   "outputs": [],
   "source": [
    "# x=soup.find('div',class_='td-post-content').text"
   ]
  },
  {
   "cell_type": "code",
   "execution_count": 4,
   "id": "417ad87f",
   "metadata": {},
   "outputs": [],
   "source": [
    "def data_link(link):\n",
    "    try:\n",
    "        driver=webdriver.Chrome()\n",
    "        driver.get(link)\n",
    "        time.sleep(30)\n",
    "        content=driver.page_source\n",
    "        soup=BeautifulSoup(content,'html.parser')\n",
    "        header=soup.find('div',class_='td-parallax-header')\n",
    "        main_header=header.find('h1',class_='entry-title').text\n",
    "        l1=[main_header]\n",
    "        all_data=soup.find('div',class_='td-post-content')\n",
    "        l2=[]\n",
    "        for i in all_data:\n",
    "            l2.append(i.text)\n",
    "        l3=[link]\n",
    "        text=\" \".join(str(x) for x in l2)\n",
    "        data_ext=pd.DataFrame({'Link_url':l3,'Header':l1,'Text':text})\n",
    "        driver.close()\n",
    "    except:\n",
    "        print('no url found')\n",
    "        l3=[link]\n",
    "        text=['url not found']\n",
    "        l1=['url not found']\n",
    "        data_ext=pd.DataFrame({'Link_url':l3,'Header':l1,'Text':text})\n",
    "    return data_ext\n",
    "    \n",
    "    \n",
    "    \n",
    "    "
   ]
  },
  {
   "cell_type": "code",
   "execution_count": 5,
   "id": "228a168f",
   "metadata": {},
   "outputs": [],
   "source": [
    "s_link=link_lst[:114]"
   ]
  },
  {
   "cell_type": "code",
   "execution_count": 6,
   "id": "4b23b892",
   "metadata": {},
   "outputs": [],
   "source": [
    "final_data=pd.DataFrame()"
   ]
  },
  {
   "cell_type": "code",
   "execution_count": 7,
   "id": "e48ed52e",
   "metadata": {},
   "outputs": [
    {
     "name": "stdout",
     "output_type": "stream",
     "text": [
      "                                            Link_url  \\\n",
      "0  https://insights.blackcoffer.com/ai-in-healthc...   \n",
      "\n",
      "                                         Header  \\\n",
      "0  AI in healthcare to Improve Patient Outcomes   \n",
      "\n",
      "                                                Text  \n",
      "0  \\n Introduction \\n “If anything kills over 10 ...  \n"
     ]
    },
    {
     "name": "stderr",
     "output_type": "stream",
     "text": [
      "C:\\Users\\Abhimanyu\\AppData\\Local\\Temp\\ipykernel_14116\\741335625.py:4: FutureWarning: The frame.append method is deprecated and will be removed from pandas in a future version. Use pandas.concat instead.\n",
      "  final_data=final_data.append(p1)\n"
     ]
    },
    {
     "name": "stdout",
     "output_type": "stream",
     "text": [
      "                                            Link_url  \\\n",
      "0  https://insights.blackcoffer.com/what-if-the-c...   \n",
      "\n",
      "                                             Header  \\\n",
      "0  What if the Creation is Taking Over the Creator?   \n",
      "\n",
      "                                                Text  \n",
      "0  \\n Human minds, a fascination in itself carryi...  \n"
     ]
    },
    {
     "name": "stderr",
     "output_type": "stream",
     "text": [
      "C:\\Users\\Abhimanyu\\AppData\\Local\\Temp\\ipykernel_14116\\741335625.py:4: FutureWarning: The frame.append method is deprecated and will be removed from pandas in a future version. Use pandas.concat instead.\n",
      "  final_data=final_data.append(p1)\n"
     ]
    },
    {
     "name": "stdout",
     "output_type": "stream",
     "text": [
      "                                            Link_url  \\\n",
      "0  https://insights.blackcoffer.com/what-jobs-wil...   \n",
      "\n",
      "                                              Header  \\\n",
      "0  What Jobs Will Robots Take From Humans in The ...   \n",
      "\n",
      "                                                Text  \n",
      "0  \\n Introduction \\n AI is rapidly evolving in t...  \n"
     ]
    },
    {
     "name": "stderr",
     "output_type": "stream",
     "text": [
      "C:\\Users\\Abhimanyu\\AppData\\Local\\Temp\\ipykernel_14116\\741335625.py:4: FutureWarning: The frame.append method is deprecated and will be removed from pandas in a future version. Use pandas.concat instead.\n",
      "  final_data=final_data.append(p1)\n"
     ]
    },
    {
     "name": "stdout",
     "output_type": "stream",
     "text": [
      "                                            Link_url  \\\n",
      "0  https://insights.blackcoffer.com/will-machine-...   \n",
      "\n",
      "                                              Header  \\\n",
      "0  Will Machine Replace The Human in the Future o...   \n",
      "\n",
      "                                                Text  \n",
      "0  \\n “Anything that could give rise to smarter-t...  \n"
     ]
    },
    {
     "name": "stderr",
     "output_type": "stream",
     "text": [
      "C:\\Users\\Abhimanyu\\AppData\\Local\\Temp\\ipykernel_14116\\741335625.py:4: FutureWarning: The frame.append method is deprecated and will be removed from pandas in a future version. Use pandas.concat instead.\n",
      "  final_data=final_data.append(p1)\n"
     ]
    },
    {
     "name": "stdout",
     "output_type": "stream",
     "text": [
      "                                            Link_url  \\\n",
      "0  https://insights.blackcoffer.com/will-ai-repla...   \n",
      "\n",
      "                                Header  \\\n",
      "0  Will AI Replace Us or Work With Us?   \n",
      "\n",
      "                                                Text  \n",
      "0  \\n “Machine intelligence is the last invention...  \n"
     ]
    },
    {
     "name": "stderr",
     "output_type": "stream",
     "text": [
      "C:\\Users\\Abhimanyu\\AppData\\Local\\Temp\\ipykernel_14116\\741335625.py:4: FutureWarning: The frame.append method is deprecated and will be removed from pandas in a future version. Use pandas.concat instead.\n",
      "  final_data=final_data.append(p1)\n"
     ]
    },
    {
     "name": "stdout",
     "output_type": "stream",
     "text": [
      "                                            Link_url  \\\n",
      "0  https://insights.blackcoffer.com/man-and-machi...   \n",
      "\n",
      "                                              Header  \\\n",
      "0  Will machine replace the human in the future o...   \n",
      "\n",
      "                                                Text  \n",
      "0  \\n Introduction \\n Where is this disruptive te...  \n"
     ]
    },
    {
     "name": "stderr",
     "output_type": "stream",
     "text": [
      "C:\\Users\\Abhimanyu\\AppData\\Local\\Temp\\ipykernel_14116\\741335625.py:4: FutureWarning: The frame.append method is deprecated and will be removed from pandas in a future version. Use pandas.concat instead.\n",
      "  final_data=final_data.append(p1)\n"
     ]
    },
    {
     "name": "stdout",
     "output_type": "stream",
     "text": [
      "                                            Link_url  \\\n",
      "0  https://insights.blackcoffer.com/in-future-or-...   \n",
      "\n",
      "                                              Header  \\\n",
      "0  How humans and machines are evolving to work t...   \n",
      "\n",
      "                                                Text  \n",
      "0  \\n In future or in upcoming years humans and m...  \n"
     ]
    },
    {
     "name": "stderr",
     "output_type": "stream",
     "text": [
      "C:\\Users\\Abhimanyu\\AppData\\Local\\Temp\\ipykernel_14116\\741335625.py:4: FutureWarning: The frame.append method is deprecated and will be removed from pandas in a future version. Use pandas.concat instead.\n",
      "  final_data=final_data.append(p1)\n"
     ]
    },
    {
     "name": "stdout",
     "output_type": "stream",
     "text": [
      "no url found\n",
      "                                            Link_url         Header  \\\n",
      "0  https://insights.blackcoffer.com/how-neural-ne...  url not found   \n",
      "\n",
      "            Text  \n",
      "0  url not found  \n"
     ]
    },
    {
     "name": "stderr",
     "output_type": "stream",
     "text": [
      "C:\\Users\\Abhimanyu\\AppData\\Local\\Temp\\ipykernel_14116\\741335625.py:4: FutureWarning: The frame.append method is deprecated and will be removed from pandas in a future version. Use pandas.concat instead.\n",
      "  final_data=final_data.append(p1)\n"
     ]
    },
    {
     "name": "stdout",
     "output_type": "stream",
     "text": [
      "                                            Link_url  \\\n",
      "0  https://insights.blackcoffer.com/how-machine-l...   \n",
      "\n",
      "                                            Header  \\\n",
      "0  How machine learning will affect your business?   \n",
      "\n",
      "                                                Text  \n",
      "0  \\n Machine learning techniques may have been u...  \n"
     ]
    },
    {
     "name": "stderr",
     "output_type": "stream",
     "text": [
      "C:\\Users\\Abhimanyu\\AppData\\Local\\Temp\\ipykernel_14116\\741335625.py:4: FutureWarning: The frame.append method is deprecated and will be removed from pandas in a future version. Use pandas.concat instead.\n",
      "  final_data=final_data.append(p1)\n"
     ]
    },
    {
     "name": "stdout",
     "output_type": "stream",
     "text": [
      "                                            Link_url  \\\n",
      "0  https://insights.blackcoffer.com/deep-learning...   \n",
      "\n",
      "                                         Header  \\\n",
      "0  Deep learning impact on areas of e-learning?   \n",
      "\n",
      "                                                Text  \n",
      "0  \\n eLearning as technology becomes more afford...  \n"
     ]
    },
    {
     "name": "stderr",
     "output_type": "stream",
     "text": [
      "C:\\Users\\Abhimanyu\\AppData\\Local\\Temp\\ipykernel_14116\\741335625.py:4: FutureWarning: The frame.append method is deprecated and will be removed from pandas in a future version. Use pandas.concat instead.\n",
      "  final_data=final_data.append(p1)\n"
     ]
    },
    {
     "name": "stdout",
     "output_type": "stream",
     "text": [
      "                                            Link_url  \\\n",
      "0  https://insights.blackcoffer.com/how-to-protec...   \n",
      "\n",
      "                                        Header  \\\n",
      "0  How to protect future data and its privacy?   \n",
      "\n",
      "                                                Text  \n",
      "0  \\n Before the internet, information was in som...  \n"
     ]
    },
    {
     "name": "stderr",
     "output_type": "stream",
     "text": [
      "C:\\Users\\Abhimanyu\\AppData\\Local\\Temp\\ipykernel_14116\\741335625.py:4: FutureWarning: The frame.append method is deprecated and will be removed from pandas in a future version. Use pandas.concat instead.\n",
      "  final_data=final_data.append(p1)\n"
     ]
    },
    {
     "name": "stdout",
     "output_type": "stream",
     "text": [
      "                                            Link_url  \\\n",
      "0  https://insights.blackcoffer.com/how-machines-...   \n",
      "\n",
      "                                              Header  \\\n",
      "0  How Machines, AI, Automations, and Robo-human ...   \n",
      "\n",
      "                                                Text  \n",
      "0  \\n We all hear day in and day out that we amid...  \n"
     ]
    },
    {
     "name": "stderr",
     "output_type": "stream",
     "text": [
      "C:\\Users\\Abhimanyu\\AppData\\Local\\Temp\\ipykernel_14116\\741335625.py:4: FutureWarning: The frame.append method is deprecated and will be removed from pandas in a future version. Use pandas.concat instead.\n",
      "  final_data=final_data.append(p1)\n"
     ]
    },
    {
     "name": "stdout",
     "output_type": "stream",
     "text": [
      "                                            Link_url  \\\n",
      "0  https://insights.blackcoffer.com/ai-human-robo...   \n",
      "\n",
      "                                   Header  \\\n",
      "0  How Robo Human will Impact the Future?   \n",
      "\n",
      "                                                Text  \n",
      "0  \\n It’s the year 2060. An automaton in a Resea...  \n"
     ]
    },
    {
     "name": "stderr",
     "output_type": "stream",
     "text": [
      "C:\\Users\\Abhimanyu\\AppData\\Local\\Temp\\ipykernel_14116\\741335625.py:4: FutureWarning: The frame.append method is deprecated and will be removed from pandas in a future version. Use pandas.concat instead.\n",
      "  final_data=final_data.append(p1)\n"
     ]
    },
    {
     "name": "stdout",
     "output_type": "stream",
     "text": [
      "                                            Link_url  \\\n",
      "0  https://insights.blackcoffer.com/how-ai-will-c...   \n",
      "\n",
      "                          Header  \\\n",
      "0  How AI will change the World?   \n",
      "\n",
      "                                                Text  \n",
      "0  \\n Abstract \\n The way work is being done now ...  \n"
     ]
    },
    {
     "name": "stderr",
     "output_type": "stream",
     "text": [
      "C:\\Users\\Abhimanyu\\AppData\\Local\\Temp\\ipykernel_14116\\741335625.py:4: FutureWarning: The frame.append method is deprecated and will be removed from pandas in a future version. Use pandas.concat instead.\n",
      "  final_data=final_data.append(p1)\n"
     ]
    },
    {
     "name": "stdout",
     "output_type": "stream",
     "text": [
      "                                            Link_url  \\\n",
      "0  https://insights.blackcoffer.com/future-of-wor...   \n",
      "\n",
      "                                             Header  \\\n",
      "0  Future of Work: How AI Has Entered the Workplace   \n",
      "\n",
      "                                                Text  \n",
      "0  \\n Abstract \\n Artificial intelligence and emp...  \n"
     ]
    },
    {
     "name": "stderr",
     "output_type": "stream",
     "text": [
      "C:\\Users\\Abhimanyu\\AppData\\Local\\Temp\\ipykernel_14116\\741335625.py:4: FutureWarning: The frame.append method is deprecated and will be removed from pandas in a future version. Use pandas.concat instead.\n",
      "  final_data=final_data.append(p1)\n"
     ]
    },
    {
     "name": "stdout",
     "output_type": "stream",
     "text": [
      "                                            Link_url  \\\n",
      "0  https://insights.blackcoffer.com/ai-tool-alexa...   \n",
      "\n",
      "                                              Header  \\\n",
      "0  How machine learning used in finance and banking?   \n",
      "\n",
      "                                                Text  \n",
      "0  \\n Through AI tools like natural language proc...  \n"
     ]
    },
    {
     "name": "stderr",
     "output_type": "stream",
     "text": [
      "C:\\Users\\Abhimanyu\\AppData\\Local\\Temp\\ipykernel_14116\\741335625.py:4: FutureWarning: The frame.append method is deprecated and will be removed from pandas in a future version. Use pandas.concat instead.\n",
      "  final_data=final_data.append(p1)\n"
     ]
    },
    {
     "name": "stdout",
     "output_type": "stream",
     "text": [
      "                                            Link_url  \\\n",
      "0  https://insights.blackcoffer.com/ai-healthcare...   \n",
      "\n",
      "                                   Header  \\\n",
      "0  How AI will impact the future of work?   \n",
      "\n",
      "                                                Text  \n",
      "0  \\n AI experts believe it’s going to be one of ...  \n"
     ]
    },
    {
     "name": "stderr",
     "output_type": "stream",
     "text": [
      "C:\\Users\\Abhimanyu\\AppData\\Local\\Temp\\ipykernel_14116\\741335625.py:4: FutureWarning: The frame.append method is deprecated and will be removed from pandas in a future version. Use pandas.concat instead.\n",
      "  final_data=final_data.append(p1)\n"
     ]
    },
    {
     "name": "stdout",
     "output_type": "stream",
     "text": [
      "                                            Link_url  \\\n",
      "0  https://insights.blackcoffer.com/all-you-need-...   \n",
      "\n",
      "                                        Header  \\\n",
      "0  All you need to know about online marketing   \n",
      "\n",
      "                                                Text  \n",
      "0  \\n   \\n   \\n  \\n Ever wondered how you get not...  \n"
     ]
    },
    {
     "name": "stderr",
     "output_type": "stream",
     "text": [
      "C:\\Users\\Abhimanyu\\AppData\\Local\\Temp\\ipykernel_14116\\741335625.py:4: FutureWarning: The frame.append method is deprecated and will be removed from pandas in a future version. Use pandas.concat instead.\n",
      "  final_data=final_data.append(p1)\n"
     ]
    },
    {
     "name": "stdout",
     "output_type": "stream",
     "text": [
      "                                            Link_url  \\\n",
      "0  https://insights.blackcoffer.com/evolution-of-...   \n",
      "\n",
      "                              Header  \\\n",
      "0  Evolution of Advertising Industry   \n",
      "\n",
      "                                                Text  \n",
      "0  \\n Evolution of Advertising Industry over the ...  \n"
     ]
    },
    {
     "name": "stderr",
     "output_type": "stream",
     "text": [
      "C:\\Users\\Abhimanyu\\AppData\\Local\\Temp\\ipykernel_14116\\741335625.py:4: FutureWarning: The frame.append method is deprecated and will be removed from pandas in a future version. Use pandas.concat instead.\n",
      "  final_data=final_data.append(p1)\n"
     ]
    },
    {
     "name": "stdout",
     "output_type": "stream",
     "text": [
      "                                            Link_url  \\\n",
      "0  https://insights.blackcoffer.com/how-data-anal...   \n",
      "\n",
      "                                              Header  \\\n",
      "0  How Data Analytics can help your business resp...   \n",
      "\n",
      "                                                Text  \n",
      "0  \\n Before we get into the whole discussion, le...  \n"
     ]
    },
    {
     "name": "stderr",
     "output_type": "stream",
     "text": [
      "C:\\Users\\Abhimanyu\\AppData\\Local\\Temp\\ipykernel_14116\\741335625.py:4: FutureWarning: The frame.append method is deprecated and will be removed from pandas in a future version. Use pandas.concat instead.\n",
      "  final_data=final_data.append(p1)\n"
     ]
    },
    {
     "name": "stdout",
     "output_type": "stream",
     "text": [
      "no url found\n",
      "                                            Link_url         Header  \\\n",
      "0  https://insights.blackcoffer.com/covid-19-envi...  url not found   \n",
      "\n",
      "            Text  \n",
      "0  url not found  \n"
     ]
    },
    {
     "name": "stderr",
     "output_type": "stream",
     "text": [
      "C:\\Users\\Abhimanyu\\AppData\\Local\\Temp\\ipykernel_14116\\741335625.py:4: FutureWarning: The frame.append method is deprecated and will be removed from pandas in a future version. Use pandas.concat instead.\n",
      "  final_data=final_data.append(p1)\n"
     ]
    },
    {
     "name": "stdout",
     "output_type": "stream",
     "text": [
      "                                            Link_url  \\\n",
      "0  https://insights.blackcoffer.com/environmental...   \n",
      "\n",
      "                                              Header  \\\n",
      "0  Environmental impact of the COVID-19 pandemic ...   \n",
      "\n",
      "                                                Text  \n",
      "0  \\n The Covid- 19 pandemics forced factories to...  \n"
     ]
    },
    {
     "name": "stderr",
     "output_type": "stream",
     "text": [
      "C:\\Users\\Abhimanyu\\AppData\\Local\\Temp\\ipykernel_14116\\741335625.py:4: FutureWarning: The frame.append method is deprecated and will be removed from pandas in a future version. Use pandas.concat instead.\n",
      "  final_data=final_data.append(p1)\n"
     ]
    },
    {
     "name": "stdout",
     "output_type": "stream",
     "text": [
      "                                            Link_url  \\\n",
      "0  https://insights.blackcoffer.com/how-data-anal...   \n",
      "\n",
      "                                              Header  \\\n",
      "0  How Data Analytics and AI are used to halt the...   \n",
      "\n",
      "                                                Text  \n",
      "0  \\n Even though COVID-19 has not yet halted and...  \n"
     ]
    },
    {
     "name": "stderr",
     "output_type": "stream",
     "text": [
      "C:\\Users\\Abhimanyu\\AppData\\Local\\Temp\\ipykernel_14116\\741335625.py:4: FutureWarning: The frame.append method is deprecated and will be removed from pandas in a future version. Use pandas.concat instead.\n",
      "  final_data=final_data.append(p1)\n"
     ]
    },
    {
     "name": "stdout",
     "output_type": "stream",
     "text": [
      "                                            Link_url  \\\n",
      "0  https://insights.blackcoffer.com/difference-be...   \n",
      "\n",
      "                                              Header  \\\n",
      "0  What is the difference between Artificial Inte...   \n",
      "\n",
      "                                                Text  \n",
      "0  \\n “Data is the new oil” has become the most i...  \n"
     ]
    },
    {
     "name": "stderr",
     "output_type": "stream",
     "text": [
      "C:\\Users\\Abhimanyu\\AppData\\Local\\Temp\\ipykernel_14116\\741335625.py:4: FutureWarning: The frame.append method is deprecated and will be removed from pandas in a future version. Use pandas.concat instead.\n",
      "  final_data=final_data.append(p1)\n"
     ]
    },
    {
     "name": "stdout",
     "output_type": "stream",
     "text": [
      "                                            Link_url  \\\n",
      "0  https://insights.blackcoffer.com/how-python-be...   \n",
      "\n",
      "                                              Header  \\\n",
      "0  How Python became the first choice for Data Sc...   \n",
      "\n",
      "                                                Text  \n",
      "0  \\n Data Science is gaining popularity exponent...  \n"
     ]
    },
    {
     "name": "stderr",
     "output_type": "stream",
     "text": [
      "C:\\Users\\Abhimanyu\\AppData\\Local\\Temp\\ipykernel_14116\\741335625.py:4: FutureWarning: The frame.append method is deprecated and will be removed from pandas in a future version. Use pandas.concat instead.\n",
      "  final_data=final_data.append(p1)\n"
     ]
    },
    {
     "name": "stdout",
     "output_type": "stream",
     "text": [
      "                                            Link_url  \\\n",
      "0  https://insights.blackcoffer.com/how-google-fi...   \n",
      "\n",
      "                                              Header  \\\n",
      "0  How Google fit measure heart and respiratory r...   \n",
      "\n",
      "                                                Text  \n",
      "0  \\n It was in March that Tech giant Google came...  \n"
     ]
    },
    {
     "name": "stderr",
     "output_type": "stream",
     "text": [
      "C:\\Users\\Abhimanyu\\AppData\\Local\\Temp\\ipykernel_14116\\741335625.py:4: FutureWarning: The frame.append method is deprecated and will be removed from pandas in a future version. Use pandas.concat instead.\n",
      "  final_data=final_data.append(p1)\n"
     ]
    },
    {
     "name": "stdout",
     "output_type": "stream",
     "text": [
      "                                            Link_url  \\\n",
      "0  https://insights.blackcoffer.com/what-is-the-f...   \n",
      "\n",
      "                               Header  \\\n",
      "0  What is the future of mobile apps?   \n",
      "\n",
      "                                                Text  \n",
      "0  \\n From what I have learned on the mobile apps...  \n"
     ]
    },
    {
     "name": "stderr",
     "output_type": "stream",
     "text": [
      "C:\\Users\\Abhimanyu\\AppData\\Local\\Temp\\ipykernel_14116\\741335625.py:4: FutureWarning: The frame.append method is deprecated and will be removed from pandas in a future version. Use pandas.concat instead.\n",
      "  final_data=final_data.append(p1)\n"
     ]
    },
    {
     "name": "stdout",
     "output_type": "stream",
     "text": [
      "                                            Link_url  \\\n",
      "0  https://insights.blackcoffer.com/impact-of-ai-...   \n",
      "\n",
      "                                Header  \\\n",
      "0  Impact of AI in health and medicine   \n",
      "\n",
      "                                                Text  \n",
      "0  \\n AI allows those in training to go through n...  \n"
     ]
    },
    {
     "name": "stderr",
     "output_type": "stream",
     "text": [
      "C:\\Users\\Abhimanyu\\AppData\\Local\\Temp\\ipykernel_14116\\741335625.py:4: FutureWarning: The frame.append method is deprecated and will be removed from pandas in a future version. Use pandas.concat instead.\n",
      "  final_data=final_data.append(p1)\n"
     ]
    },
    {
     "name": "stdout",
     "output_type": "stream",
     "text": [
      "                                            Link_url  \\\n",
      "0  https://insights.blackcoffer.com/telemedicine-...   \n",
      "\n",
      "                                              Header  \\\n",
      "0  What patients like and dislike about telemedic...   \n",
      "\n",
      "                                                Text  \n",
      "0  \\n In today’s world, telemedicine technology i...  \n"
     ]
    },
    {
     "name": "stderr",
     "output_type": "stream",
     "text": [
      "C:\\Users\\Abhimanyu\\AppData\\Local\\Temp\\ipykernel_14116\\741335625.py:4: FutureWarning: The frame.append method is deprecated and will be removed from pandas in a future version. Use pandas.concat instead.\n",
      "  final_data=final_data.append(p1)\n"
     ]
    },
    {
     "name": "stdout",
     "output_type": "stream",
     "text": [
      "                                            Link_url  \\\n",
      "0  https://insights.blackcoffer.com/how-we-foreca...   \n",
      "\n",
      "                                 Header  \\\n",
      "0  How we forecast future technologies?   \n",
      "\n",
      "                                                Text  \n",
      "0  \\n TECHNOLOGY is playing a dominant role in hu...  \n"
     ]
    },
    {
     "name": "stderr",
     "output_type": "stream",
     "text": [
      "C:\\Users\\Abhimanyu\\AppData\\Local\\Temp\\ipykernel_14116\\741335625.py:4: FutureWarning: The frame.append method is deprecated and will be removed from pandas in a future version. Use pandas.concat instead.\n",
      "  final_data=final_data.append(p1)\n"
     ]
    },
    {
     "name": "stdout",
     "output_type": "stream",
     "text": [
      "                                            Link_url  \\\n",
      "0  https://insights.blackcoffer.com/can-robots-ta...   \n",
      "\n",
      "                                    Header  \\\n",
      "0  Can robots tackle late-life loneliness?   \n",
      "\n",
      "                                                Text  \n",
      "0  \\n In this era, everyone is busy in his life. ...  \n"
     ]
    },
    {
     "name": "stderr",
     "output_type": "stream",
     "text": [
      "C:\\Users\\Abhimanyu\\AppData\\Local\\Temp\\ipykernel_14116\\741335625.py:4: FutureWarning: The frame.append method is deprecated and will be removed from pandas in a future version. Use pandas.concat instead.\n",
      "  final_data=final_data.append(p1)\n"
     ]
    },
    {
     "name": "stdout",
     "output_type": "stream",
     "text": [
      "                                            Link_url  \\\n",
      "0  https://insights.blackcoffer.com/embedding-car...   \n",
      "\n",
      "                                              Header  \\\n",
      "0  Embedding care robots into society and practic...   \n",
      "\n",
      "                                                Text  \n",
      "0  \\n Care Robots, as the name suggests, are robo...  \n"
     ]
    },
    {
     "name": "stderr",
     "output_type": "stream",
     "text": [
      "C:\\Users\\Abhimanyu\\AppData\\Local\\Temp\\ipykernel_14116\\741335625.py:4: FutureWarning: The frame.append method is deprecated and will be removed from pandas in a future version. Use pandas.concat instead.\n",
      "  final_data=final_data.append(p1)\n"
     ]
    },
    {
     "name": "stdout",
     "output_type": "stream",
     "text": [
      "                                            Link_url  \\\n",
      "0  https://insights.blackcoffer.com/management-ch...   \n",
      "\n",
      "                                              Header  \\\n",
      "0  Management challenges for future digitalizatio...   \n",
      "\n",
      "                                                Text  \n",
      "0  \\n Management acts as a guide to a group of pe...  \n"
     ]
    },
    {
     "name": "stderr",
     "output_type": "stream",
     "text": [
      "C:\\Users\\Abhimanyu\\AppData\\Local\\Temp\\ipykernel_14116\\741335625.py:4: FutureWarning: The frame.append method is deprecated and will be removed from pandas in a future version. Use pandas.concat instead.\n",
      "  final_data=final_data.append(p1)\n"
     ]
    },
    {
     "name": "stdout",
     "output_type": "stream",
     "text": [
      "                                            Link_url  \\\n",
      "0  https://insights.blackcoffer.com/are-we-any-cl...   \n",
      "\n",
      "                                              Header  \\\n",
      "0  Are we any closer to preventing a nuclear holo...   \n",
      "\n",
      "                                                Text  \n",
      "0  \\n One thought always comes to my mind…What if...  \n"
     ]
    },
    {
     "name": "stderr",
     "output_type": "stream",
     "text": [
      "C:\\Users\\Abhimanyu\\AppData\\Local\\Temp\\ipykernel_14116\\741335625.py:4: FutureWarning: The frame.append method is deprecated and will be removed from pandas in a future version. Use pandas.concat instead.\n",
      "  final_data=final_data.append(p1)\n"
     ]
    },
    {
     "name": "stdout",
     "output_type": "stream",
     "text": [
      "                                            Link_url  \\\n",
      "0  https://insights.blackcoffer.com/will-technolo...   \n",
      "\n",
      "                                              Header  \\\n",
      "0  Will technology eliminate the need for animal ...   \n",
      "\n",
      "                                                Text  \n",
      "0  \\n  \\n Imagine yourself as a being who can spe...  \n"
     ]
    },
    {
     "name": "stderr",
     "output_type": "stream",
     "text": [
      "C:\\Users\\Abhimanyu\\AppData\\Local\\Temp\\ipykernel_14116\\741335625.py:4: FutureWarning: The frame.append method is deprecated and will be removed from pandas in a future version. Use pandas.concat instead.\n",
      "  final_data=final_data.append(p1)\n"
     ]
    },
    {
     "name": "stdout",
     "output_type": "stream",
     "text": [
      "                                            Link_url  \\\n",
      "0  https://insights.blackcoffer.com/will-we-ever-...   \n",
      "\n",
      "                                              Header  \\\n",
      "0  Will we ever understand the nature of consciou...   \n",
      "\n",
      "                                                Text  \n",
      "0  \\n Introduction \\n The definition of conscious...  \n"
     ]
    },
    {
     "name": "stderr",
     "output_type": "stream",
     "text": [
      "C:\\Users\\Abhimanyu\\AppData\\Local\\Temp\\ipykernel_14116\\741335625.py:4: FutureWarning: The frame.append method is deprecated and will be removed from pandas in a future version. Use pandas.concat instead.\n",
      "  final_data=final_data.append(p1)\n"
     ]
    },
    {
     "name": "stdout",
     "output_type": "stream",
     "text": [
      "                                            Link_url  \\\n",
      "0  https://insights.blackcoffer.com/will-we-ever-...   \n",
      "\n",
      "                               Header  \\\n",
      "0  Will we ever colonize outer space?   \n",
      "\n",
      "                                                Text  \n",
      "0  \\n Nature has blessed humanity with earth, a r...  \n"
     ]
    },
    {
     "name": "stderr",
     "output_type": "stream",
     "text": [
      "C:\\Users\\Abhimanyu\\AppData\\Local\\Temp\\ipykernel_14116\\741335625.py:4: FutureWarning: The frame.append method is deprecated and will be removed from pandas in a future version. Use pandas.concat instead.\n",
      "  final_data=final_data.append(p1)\n"
     ]
    },
    {
     "name": "stdout",
     "output_type": "stream",
     "text": [
      "                                            Link_url  \\\n",
      "0  https://insights.blackcoffer.com/what-is-the-c...   \n",
      "\n",
      "                                              Header  \\\n",
      "0  What is the chance Homo sapiens will survive f...   \n",
      "\n",
      "                                                Text  \n",
      "0  \\n We’ve really done it this year. Like an ins...  \n"
     ]
    },
    {
     "name": "stderr",
     "output_type": "stream",
     "text": [
      "C:\\Users\\Abhimanyu\\AppData\\Local\\Temp\\ipykernel_14116\\741335625.py:4: FutureWarning: The frame.append method is deprecated and will be removed from pandas in a future version. Use pandas.concat instead.\n",
      "  final_data=final_data.append(p1)\n"
     ]
    },
    {
     "name": "stdout",
     "output_type": "stream",
     "text": [
      "                                            Link_url  \\\n",
      "0  https://insights.blackcoffer.com/why-does-your...   \n",
      "\n",
      "                                   Header  \\\n",
      "0  Why does your business need a chatbot?   \n",
      "\n",
      "                                                Text  \n",
      "0  \\n Mr. Sakamoto is a bonsai artist, lives down...  \n"
     ]
    },
    {
     "name": "stderr",
     "output_type": "stream",
     "text": [
      "C:\\Users\\Abhimanyu\\AppData\\Local\\Temp\\ipykernel_14116\\741335625.py:4: FutureWarning: The frame.append method is deprecated and will be removed from pandas in a future version. Use pandas.concat instead.\n",
      "  final_data=final_data.append(p1)\n"
     ]
    },
    {
     "name": "stdout",
     "output_type": "stream",
     "text": [
      "                                            Link_url  \\\n",
      "0  https://insights.blackcoffer.com/how-you-lead-...   \n",
      "\n",
      "                                              Header  \\\n",
      "0  How you lead a project or a team without any t...   \n",
      "\n",
      "                                                Text  \n",
      "0  \\n Have you ever wondered what’s common betwee...  \n"
     ]
    },
    {
     "name": "stderr",
     "output_type": "stream",
     "text": [
      "C:\\Users\\Abhimanyu\\AppData\\Local\\Temp\\ipykernel_14116\\741335625.py:4: FutureWarning: The frame.append method is deprecated and will be removed from pandas in a future version. Use pandas.concat instead.\n",
      "  final_data=final_data.append(p1)\n"
     ]
    },
    {
     "name": "stdout",
     "output_type": "stream",
     "text": [
      "                                            Link_url  \\\n",
      "0  https://insights.blackcoffer.com/can-you-be-gr...   \n",
      "\n",
      "                                              Header  \\\n",
      "0  Can You Be Great Leader Without Technical Expe...   \n",
      "\n",
      "                                                Text  \n",
      "0  \\n The word “leadership” can bring to mind a v...  \n"
     ]
    },
    {
     "name": "stderr",
     "output_type": "stream",
     "text": [
      "C:\\Users\\Abhimanyu\\AppData\\Local\\Temp\\ipykernel_14116\\741335625.py:4: FutureWarning: The frame.append method is deprecated and will be removed from pandas in a future version. Use pandas.concat instead.\n",
      "  final_data=final_data.append(p1)\n"
     ]
    },
    {
     "name": "stdout",
     "output_type": "stream",
     "text": [
      "                                            Link_url  \\\n",
      "0  https://insights.blackcoffer.com/how-does-arti...   \n",
      "\n",
      "                                              Header  \\\n",
      "0  How does artificial intelligence affect the en...   \n",
      "\n",
      "                                                Text  \n",
      "0  \\n When we talk about AI, different people hav...  \n"
     ]
    },
    {
     "name": "stderr",
     "output_type": "stream",
     "text": [
      "C:\\Users\\Abhimanyu\\AppData\\Local\\Temp\\ipykernel_14116\\741335625.py:4: FutureWarning: The frame.append method is deprecated and will be removed from pandas in a future version. Use pandas.concat instead.\n",
      "  final_data=final_data.append(p1)\n"
     ]
    },
    {
     "name": "stdout",
     "output_type": "stream",
     "text": [
      "                                            Link_url  \\\n",
      "0  https://insights.blackcoffer.com/how-to-overco...   \n",
      "\n",
      "                                         Header  \\\n",
      "0  How to Overcome Your Fear of Making Mistakes   \n",
      "\n",
      "                                                Text  \n",
      "0  \\n No one can reduce mistakes to zero, but you...  \n"
     ]
    },
    {
     "name": "stderr",
     "output_type": "stream",
     "text": [
      "C:\\Users\\Abhimanyu\\AppData\\Local\\Temp\\ipykernel_14116\\741335625.py:4: FutureWarning: The frame.append method is deprecated and will be removed from pandas in a future version. Use pandas.concat instead.\n",
      "  final_data=final_data.append(p1)\n"
     ]
    },
    {
     "name": "stdout",
     "output_type": "stream",
     "text": [
      "                                            Link_url  \\\n",
      "0  https://insights.blackcoffer.com/is-perfection...   \n",
      "\n",
      "                                              Header  \\\n",
      "0  Is Perfection the Greatest enemy of Productivity?   \n",
      "\n",
      "                                                Text  \n",
      "0  \\n What’s perfection really? Does every person...  \n"
     ]
    },
    {
     "name": "stderr",
     "output_type": "stream",
     "text": [
      "C:\\Users\\Abhimanyu\\AppData\\Local\\Temp\\ipykernel_14116\\741335625.py:4: FutureWarning: The frame.append method is deprecated and will be removed from pandas in a future version. Use pandas.concat instead.\n",
      "  final_data=final_data.append(p1)\n"
     ]
    },
    {
     "name": "stdout",
     "output_type": "stream",
     "text": [
      "                                            Link_url  \\\n",
      "0  https://insights.blackcoffer.com/global-financ...   \n",
      "\n",
      "                                              Header  \\\n",
      "0  Global financial crisis 2008 causes/effects an...   \n",
      "\n",
      "                                                Text  \n",
      "0  \\n Brief  \\n The Financial Crisis of 2008 star...  \n"
     ]
    },
    {
     "name": "stderr",
     "output_type": "stream",
     "text": [
      "C:\\Users\\Abhimanyu\\AppData\\Local\\Temp\\ipykernel_14116\\741335625.py:4: FutureWarning: The frame.append method is deprecated and will be removed from pandas in a future version. Use pandas.concat instead.\n",
      "  final_data=final_data.append(p1)\n"
     ]
    },
    {
     "name": "stdout",
     "output_type": "stream",
     "text": [
      "                                            Link_url  \\\n",
      "0  https://insights.blackcoffer.com/gender-divers...   \n",
      "\n",
      "                                              Header  \\\n",
      "0  Gender diversity and Equality in the tech indu...   \n",
      "\n",
      "                                                Text  \n",
      "0  \\n Gender diversity is an equal representation...  \n"
     ]
    },
    {
     "name": "stderr",
     "output_type": "stream",
     "text": [
      "C:\\Users\\Abhimanyu\\AppData\\Local\\Temp\\ipykernel_14116\\741335625.py:4: FutureWarning: The frame.append method is deprecated and will be removed from pandas in a future version. Use pandas.concat instead.\n",
      "  final_data=final_data.append(p1)\n"
     ]
    },
    {
     "name": "stdout",
     "output_type": "stream",
     "text": [
      "                                            Link_url  \\\n",
      "0  https://insights.blackcoffer.com/how-to-overco...   \n",
      "\n",
      "                                          Header  \\\n",
      "0  How to overcome your fear of making mistakes?   \n",
      "\n",
      "                                                Text  \n",
      "0  \\n The Covid-19 crisis and its fallout includi...  \n"
     ]
    },
    {
     "name": "stderr",
     "output_type": "stream",
     "text": [
      "C:\\Users\\Abhimanyu\\AppData\\Local\\Temp\\ipykernel_14116\\741335625.py:4: FutureWarning: The frame.append method is deprecated and will be removed from pandas in a future version. Use pandas.concat instead.\n",
      "  final_data=final_data.append(p1)\n"
     ]
    },
    {
     "name": "stdout",
     "output_type": "stream",
     "text": [
      "                                            Link_url  \\\n",
      "0  https://insights.blackcoffer.com/how-small-bus...   \n",
      "\n",
      "                                              Header  \\\n",
      "0  How Small Business can survive the Coronavirus...   \n",
      "\n",
      "                                                Text  \n",
      "0  \\n The word pandemic may be the most used word...  \n"
     ]
    },
    {
     "name": "stderr",
     "output_type": "stream",
     "text": [
      "C:\\Users\\Abhimanyu\\AppData\\Local\\Temp\\ipykernel_14116\\741335625.py:4: FutureWarning: The frame.append method is deprecated and will be removed from pandas in a future version. Use pandas.concat instead.\n",
      "  final_data=final_data.append(p1)\n"
     ]
    },
    {
     "name": "stdout",
     "output_type": "stream",
     "text": [
      "                                            Link_url  \\\n",
      "0  https://insights.blackcoffer.com/impacts-of-co...   \n",
      "\n",
      "                                 Header  \\\n",
      "0  Impacts of COVID 19 on Food products   \n",
      "\n",
      "                                                Text  \n",
      "0  \\n Some vendors (fruit and vegetable sellers) ...  \n"
     ]
    },
    {
     "name": "stderr",
     "output_type": "stream",
     "text": [
      "C:\\Users\\Abhimanyu\\AppData\\Local\\Temp\\ipykernel_14116\\741335625.py:4: FutureWarning: The frame.append method is deprecated and will be removed from pandas in a future version. Use pandas.concat instead.\n",
      "  final_data=final_data.append(p1)\n"
     ]
    },
    {
     "name": "stdout",
     "output_type": "stream",
     "text": [
      "                                            Link_url  \\\n",
      "0  https://insights.blackcoffer.com/impacts-of-co...   \n",
      "\n",
      "                                     Header  \\\n",
      "0  Impacts of COVID 19 on Vegetable Vendors   \n",
      "\n",
      "                                                Text  \n",
      "0  \\n The COVID-19 pandemic has grown into one of...  \n"
     ]
    },
    {
     "name": "stderr",
     "output_type": "stream",
     "text": [
      "C:\\Users\\Abhimanyu\\AppData\\Local\\Temp\\ipykernel_14116\\741335625.py:4: FutureWarning: The frame.append method is deprecated and will be removed from pandas in a future version. Use pandas.concat instead.\n",
      "  final_data=final_data.append(p1)\n"
     ]
    },
    {
     "name": "stdout",
     "output_type": "stream",
     "text": [
      "                                            Link_url  \\\n",
      "0  https://insights.blackcoffer.com/impact-of-cov...   \n",
      "\n",
      "                                              Header  \\\n",
      "0  Impact of COVID-19 pandemic on Tourism & Aviat...   \n",
      "\n",
      "                                                Text  \n",
      "0  \\n As the Coronavirus pandemic unfolds, most i...  \n"
     ]
    },
    {
     "name": "stderr",
     "output_type": "stream",
     "text": [
      "C:\\Users\\Abhimanyu\\AppData\\Local\\Temp\\ipykernel_14116\\741335625.py:4: FutureWarning: The frame.append method is deprecated and will be removed from pandas in a future version. Use pandas.concat instead.\n",
      "  final_data=final_data.append(p1)\n"
     ]
    },
    {
     "name": "stdout",
     "output_type": "stream",
     "text": [
      "                                            Link_url  \\\n",
      "0  https://insights.blackcoffer.com/impact-of-cov...   \n",
      "\n",
      "                                              Header  \\\n",
      "0  Impact of COVID-19 pandemic on sports events a...   \n",
      "\n",
      "                                                Text  \n",
      "0  \\n The COVID-19 pandemic has caused the most s...  \n"
     ]
    },
    {
     "name": "stderr",
     "output_type": "stream",
     "text": [
      "C:\\Users\\Abhimanyu\\AppData\\Local\\Temp\\ipykernel_14116\\741335625.py:4: FutureWarning: The frame.append method is deprecated and will be removed from pandas in a future version. Use pandas.concat instead.\n",
      "  final_data=final_data.append(p1)\n"
     ]
    },
    {
     "name": "stdout",
     "output_type": "stream",
     "text": [
      "                                            Link_url  \\\n",
      "0  https://insights.blackcoffer.com/changing-land...   \n",
      "\n",
      "                                              Header  \\\n",
      "0  Changing landscape and emerging trends in the ...   \n",
      "\n",
      "                                                Text  \n",
      "0  \\n The COVID 19 pandemic has reshaped the fund...  \n"
     ]
    },
    {
     "name": "stderr",
     "output_type": "stream",
     "text": [
      "C:\\Users\\Abhimanyu\\AppData\\Local\\Temp\\ipykernel_14116\\741335625.py:4: FutureWarning: The frame.append method is deprecated and will be removed from pandas in a future version. Use pandas.concat instead.\n",
      "  final_data=final_data.append(p1)\n"
     ]
    },
    {
     "name": "stdout",
     "output_type": "stream",
     "text": [
      "                                            Link_url  \\\n",
      "0  https://insights.blackcoffer.com/online-gaming...   \n",
      "\n",
      "                                              Header  \\\n",
      "0  Online gaming: Adolescent online gaming effect...   \n",
      "\n",
      "                                                Text  \n",
      "0  \\n Introduction  \\n A video game is any softwa...  \n"
     ]
    },
    {
     "name": "stderr",
     "output_type": "stream",
     "text": [
      "C:\\Users\\Abhimanyu\\AppData\\Local\\Temp\\ipykernel_14116\\741335625.py:4: FutureWarning: The frame.append method is deprecated and will be removed from pandas in a future version. Use pandas.concat instead.\n",
      "  final_data=final_data.append(p1)\n"
     ]
    },
    {
     "name": "stdout",
     "output_type": "stream",
     "text": [
      "                                            Link_url                Header  \\\n",
      "0  https://insights.blackcoffer.com/human-rights-...  Human Rights Outlook   \n",
      "\n",
      "                                                Text  \n",
      "0  \\n Climate change, technological advances, and...  \n"
     ]
    },
    {
     "name": "stderr",
     "output_type": "stream",
     "text": [
      "C:\\Users\\Abhimanyu\\AppData\\Local\\Temp\\ipykernel_14116\\741335625.py:4: FutureWarning: The frame.append method is deprecated and will be removed from pandas in a future version. Use pandas.concat instead.\n",
      "  final_data=final_data.append(p1)\n"
     ]
    },
    {
     "name": "stdout",
     "output_type": "stream",
     "text": [
      "                                            Link_url  \\\n",
      "0  https://insights.blackcoffer.com/how-voice-sea...   \n",
      "\n",
      "                                              Header  \\\n",
      "0  How Voice search makes your business a success...   \n",
      "\n",
      "                                                Text  \n",
      "0  \\n Finding ways to make using the Internet eas...  \n"
     ]
    },
    {
     "name": "stderr",
     "output_type": "stream",
     "text": [
      "C:\\Users\\Abhimanyu\\AppData\\Local\\Temp\\ipykernel_14116\\741335625.py:4: FutureWarning: The frame.append method is deprecated and will be removed from pandas in a future version. Use pandas.concat instead.\n",
      "  final_data=final_data.append(p1)\n"
     ]
    },
    {
     "name": "stdout",
     "output_type": "stream",
     "text": [
      "                                            Link_url  \\\n",
      "0  https://insights.blackcoffer.com/how-the-covid...   \n",
      "\n",
      "                                              Header  \\\n",
      "0  How the COVID-19 crisis is redefining jobs and...   \n",
      "\n",
      "                                                Text  \n",
      "0  \\n The pandemic has shaken the world in the wa...  \n"
     ]
    },
    {
     "name": "stderr",
     "output_type": "stream",
     "text": [
      "C:\\Users\\Abhimanyu\\AppData\\Local\\Temp\\ipykernel_14116\\741335625.py:4: FutureWarning: The frame.append method is deprecated and will be removed from pandas in a future version. Use pandas.concat instead.\n",
      "  final_data=final_data.append(p1)\n"
     ]
    },
    {
     "name": "stdout",
     "output_type": "stream",
     "text": [
      "                                            Link_url  \\\n",
      "0  https://insights.blackcoffer.com/how-to-increa...   \n",
      "\n",
      "                                              Header  \\\n",
      "0  How to increase social media engagement for ma...   \n",
      "\n",
      "                                                Text  \n",
      "0  \\n Social media is such a staple of our evolvi...  \n"
     ]
    },
    {
     "name": "stderr",
     "output_type": "stream",
     "text": [
      "C:\\Users\\Abhimanyu\\AppData\\Local\\Temp\\ipykernel_14116\\741335625.py:4: FutureWarning: The frame.append method is deprecated and will be removed from pandas in a future version. Use pandas.concat instead.\n",
      "  final_data=final_data.append(p1)\n"
     ]
    },
    {
     "name": "stdout",
     "output_type": "stream",
     "text": [
      "                                            Link_url  \\\n",
      "0  https://insights.blackcoffer.com/impacts-of-co...   \n",
      "\n",
      "                                             Header  \\\n",
      "0  Impacts of COVID 19 on Streets Sides Food Stalls   \n",
      "\n",
      "                                                Text  \n",
      "0  \\n Petty Entrepreneurs like Streetside Food St...  \n"
     ]
    },
    {
     "name": "stderr",
     "output_type": "stream",
     "text": [
      "C:\\Users\\Abhimanyu\\AppData\\Local\\Temp\\ipykernel_14116\\741335625.py:4: FutureWarning: The frame.append method is deprecated and will be removed from pandas in a future version. Use pandas.concat instead.\n",
      "  final_data=final_data.append(p1)\n"
     ]
    },
    {
     "name": "stdout",
     "output_type": "stream",
     "text": [
      "                                            Link_url  \\\n",
      "0  https://insights.blackcoffer.com/coronavirus-i...   \n",
      "\n",
      "                                 Header  \\\n",
      "0  Coronavirus impact on energy markets   \n",
      "\n",
      "                                                Text  \n",
      "0  \\n The coronavirus, also known as COVID-19, is...  \n"
     ]
    },
    {
     "name": "stderr",
     "output_type": "stream",
     "text": [
      "C:\\Users\\Abhimanyu\\AppData\\Local\\Temp\\ipykernel_14116\\741335625.py:4: FutureWarning: The frame.append method is deprecated and will be removed from pandas in a future version. Use pandas.concat instead.\n",
      "  final_data=final_data.append(p1)\n"
     ]
    },
    {
     "name": "stdout",
     "output_type": "stream",
     "text": [
      "                                            Link_url  \\\n",
      "0  https://insights.blackcoffer.com/coronavirus-i...   \n",
      "\n",
      "                                    Header  \\\n",
      "0  COVID-19 Impact on Hospitality Industry   \n",
      "\n",
      "                                                Text  \n",
      "0  \\n In December 2019, a novel coronavirus strai...  \n"
     ]
    },
    {
     "name": "stderr",
     "output_type": "stream",
     "text": [
      "C:\\Users\\Abhimanyu\\AppData\\Local\\Temp\\ipykernel_14116\\741335625.py:4: FutureWarning: The frame.append method is deprecated and will be removed from pandas in a future version. Use pandas.concat instead.\n",
      "  final_data=final_data.append(p1)\n"
     ]
    },
    {
     "name": "stdout",
     "output_type": "stream",
     "text": [
      "                                            Link_url  \\\n",
      "0  https://insights.blackcoffer.com/lessons-from-...   \n",
      "\n",
      "                                              Header  \\\n",
      "0  Lessons from the past: Some key learnings rele...   \n",
      "\n",
      "                                                Text  \n",
      "0  \\n As a race, we are not ready for any kind of...  \n"
     ]
    },
    {
     "name": "stderr",
     "output_type": "stream",
     "text": [
      "C:\\Users\\Abhimanyu\\AppData\\Local\\Temp\\ipykernel_14116\\741335625.py:4: FutureWarning: The frame.append method is deprecated and will be removed from pandas in a future version. Use pandas.concat instead.\n",
      "  final_data=final_data.append(p1)\n"
     ]
    },
    {
     "name": "stdout",
     "output_type": "stream",
     "text": [
      "                                            Link_url  \\\n",
      "0  https://insights.blackcoffer.com/estimating-th...   \n",
      "\n",
      "                                              Header  \\\n",
      "0  Estimating the impact of COVID-19 on the world...   \n",
      "\n",
      "                                                Text  \n",
      "0  \\n COVID-19 an unprecedented pandemic for us b...  \n"
     ]
    },
    {
     "name": "stderr",
     "output_type": "stream",
     "text": [
      "C:\\Users\\Abhimanyu\\AppData\\Local\\Temp\\ipykernel_14116\\741335625.py:4: FutureWarning: The frame.append method is deprecated and will be removed from pandas in a future version. Use pandas.concat instead.\n",
      "  final_data=final_data.append(p1)\n"
     ]
    },
    {
     "name": "stdout",
     "output_type": "stream",
     "text": [
      "                                            Link_url  \\\n",
      "0  https://insights.blackcoffer.com/estimating-th...   \n",
      "\n",
      "                                              Header  \\\n",
      "0  Estimating the impact of COVID-19 on the world...   \n",
      "\n",
      "                                                Text  \n",
      "0  \\n  \\n  \\n  \\n Will COVID19 END Globalization?...  \n"
     ]
    },
    {
     "name": "stderr",
     "output_type": "stream",
     "text": [
      "C:\\Users\\Abhimanyu\\AppData\\Local\\Temp\\ipykernel_14116\\741335625.py:4: FutureWarning: The frame.append method is deprecated and will be removed from pandas in a future version. Use pandas.concat instead.\n",
      "  final_data=final_data.append(p1)\n"
     ]
    },
    {
     "name": "stdout",
     "output_type": "stream",
     "text": [
      "                                            Link_url  \\\n",
      "0  https://insights.blackcoffer.com/travel-and-to...   \n",
      "\n",
      "                       Header  \\\n",
      "0  Travel and Tourism Outlook   \n",
      "\n",
      "                                                Text  \n",
      "0  \\n The UN projects a 20-30% decline in interna...  \n"
     ]
    },
    {
     "name": "stderr",
     "output_type": "stream",
     "text": [
      "C:\\Users\\Abhimanyu\\AppData\\Local\\Temp\\ipykernel_14116\\741335625.py:4: FutureWarning: The frame.append method is deprecated and will be removed from pandas in a future version. Use pandas.concat instead.\n",
      "  final_data=final_data.append(p1)\n"
     ]
    },
    {
     "name": "stdout",
     "output_type": "stream",
     "text": [
      "                                            Link_url  \\\n",
      "0  https://insights.blackcoffer.com/gaming-disord...   \n",
      "\n",
      "                                             Header  \\\n",
      "0  Gaming Disorder and Effects of Gaming on Health.   \n",
      "\n",
      "                                                Text  \n",
      "0  \\n Perhaps the virtual illusion has become tod...  \n"
     ]
    },
    {
     "name": "stderr",
     "output_type": "stream",
     "text": [
      "C:\\Users\\Abhimanyu\\AppData\\Local\\Temp\\ipykernel_14116\\741335625.py:4: FutureWarning: The frame.append method is deprecated and will be removed from pandas in a future version. Use pandas.concat instead.\n",
      "  final_data=final_data.append(p1)\n"
     ]
    },
    {
     "name": "stdout",
     "output_type": "stream",
     "text": [
      "                                            Link_url  \\\n",
      "0  https://insights.blackcoffer.com/what-is-the-r...   \n",
      "\n",
      "                                              Header  \\\n",
      "0  What is the repercussion of the environment du...   \n",
      "\n",
      "                                                Text  \n",
      "0  \\n What is COVID 19 pandemic? \\n On 31st Decem...  \n"
     ]
    },
    {
     "name": "stderr",
     "output_type": "stream",
     "text": [
      "C:\\Users\\Abhimanyu\\AppData\\Local\\Temp\\ipykernel_14116\\741335625.py:4: FutureWarning: The frame.append method is deprecated and will be removed from pandas in a future version. Use pandas.concat instead.\n",
      "  final_data=final_data.append(p1)\n"
     ]
    },
    {
     "name": "stdout",
     "output_type": "stream",
     "text": [
      "                                            Link_url  \\\n",
      "0  https://insights.blackcoffer.com/what-is-the-r...   \n",
      "\n",
      "                                              Header  \\\n",
      "0  Due to the COVID-19 the repercussion of the en...   \n",
      "\n",
      "                                                Text  \n",
      "0  \\n Epidemics, in general, have both direct and...  \n"
     ]
    },
    {
     "name": "stderr",
     "output_type": "stream",
     "text": [
      "C:\\Users\\Abhimanyu\\AppData\\Local\\Temp\\ipykernel_14116\\741335625.py:4: FutureWarning: The frame.append method is deprecated and will be removed from pandas in a future version. Use pandas.concat instead.\n",
      "  final_data=final_data.append(p1)\n"
     ]
    },
    {
     "name": "stdout",
     "output_type": "stream",
     "text": [
      "                                            Link_url  \\\n",
      "0  https://insights.blackcoffer.com/impact-of-cov...   \n",
      "\n",
      "                                              Header  \\\n",
      "0  Impact of COVID-19 pandemic on office space an...   \n",
      "\n",
      "                                                Text  \n",
      "0  \\n COVID 19 has bought the world to its knees....  \n"
     ]
    },
    {
     "name": "stderr",
     "output_type": "stream",
     "text": [
      "C:\\Users\\Abhimanyu\\AppData\\Local\\Temp\\ipykernel_14116\\741335625.py:4: FutureWarning: The frame.append method is deprecated and will be removed from pandas in a future version. Use pandas.concat instead.\n",
      "  final_data=final_data.append(p1)\n"
     ]
    },
    {
     "name": "stdout",
     "output_type": "stream",
     "text": [
      "                                            Link_url  \\\n",
      "0  https://insights.blackcoffer.com/contribution-...   \n",
      "\n",
      "                                              Header  \\\n",
      "0  Contribution of handicrafts (Visual Arts & Lit...   \n",
      "\n",
      "                                                Text  \n",
      "0  \\n Handicrafts is an art of making crafts by h...  \n"
     ]
    },
    {
     "name": "stderr",
     "output_type": "stream",
     "text": [
      "C:\\Users\\Abhimanyu\\AppData\\Local\\Temp\\ipykernel_14116\\741335625.py:4: FutureWarning: The frame.append method is deprecated and will be removed from pandas in a future version. Use pandas.concat instead.\n",
      "  final_data=final_data.append(p1)\n"
     ]
    },
    {
     "name": "stdout",
     "output_type": "stream",
     "text": [
      "                                            Link_url  \\\n",
      "0  https://insights.blackcoffer.com/how-covid-19-...   \n",
      "\n",
      "                                           Header  \\\n",
      "0  How COVID-19 is impacting payment preferences?   \n",
      "\n",
      "                                                Text  \n",
      "0  \\n I would rather pay cash – Before COVID-19. ...  \n"
     ]
    },
    {
     "name": "stderr",
     "output_type": "stream",
     "text": [
      "C:\\Users\\Abhimanyu\\AppData\\Local\\Temp\\ipykernel_14116\\741335625.py:4: FutureWarning: The frame.append method is deprecated and will be removed from pandas in a future version. Use pandas.concat instead.\n",
      "  final_data=final_data.append(p1)\n"
     ]
    },
    {
     "name": "stdout",
     "output_type": "stream",
     "text": [
      "                                            Link_url  \\\n",
      "0  https://insights.blackcoffer.com/how-will-covi...   \n",
      "\n",
      "                                        Header  \\\n",
      "0  How will COVID-19 affect the world of work?   \n",
      "\n",
      "                                                Text  \n",
      "0  \\n As business close to help prevent transmiss...  \n"
     ]
    },
    {
     "name": "stderr",
     "output_type": "stream",
     "text": [
      "C:\\Users\\Abhimanyu\\AppData\\Local\\Temp\\ipykernel_14116\\741335625.py:4: FutureWarning: The frame.append method is deprecated and will be removed from pandas in a future version. Use pandas.concat instead.\n",
      "  final_data=final_data.append(p1)\n"
     ]
    },
    {
     "name": "stdout",
     "output_type": "stream",
     "text": [
      "                                            Link_url  \\\n",
      "0  https://insights.blackcoffer.com/lessons-from-...   \n",
      "\n",
      "                                              Header  \\\n",
      "0  Lessons from the past: Some key learnings rele...   \n",
      "\n",
      "                                                Text  \n",
      "0  \\n So, not beginning with once upon a time bec...  \n"
     ]
    },
    {
     "name": "stderr",
     "output_type": "stream",
     "text": [
      "C:\\Users\\Abhimanyu\\AppData\\Local\\Temp\\ipykernel_14116\\741335625.py:4: FutureWarning: The frame.append method is deprecated and will be removed from pandas in a future version. Use pandas.concat instead.\n",
      "  final_data=final_data.append(p1)\n"
     ]
    },
    {
     "name": "stdout",
     "output_type": "stream",
     "text": [
      "                                            Link_url  \\\n",
      "0  https://insights.blackcoffer.com/covid-19-how-...   \n",
      "\n",
      "                                          Header  \\\n",
      "0  COVID-19: How have countries been responding?   \n",
      "\n",
      "                                                Text  \n",
      "0  \\n The COVID-19 pandemic is impacting communit...  \n"
     ]
    },
    {
     "name": "stderr",
     "output_type": "stream",
     "text": [
      "C:\\Users\\Abhimanyu\\AppData\\Local\\Temp\\ipykernel_14116\\741335625.py:4: FutureWarning: The frame.append method is deprecated and will be removed from pandas in a future version. Use pandas.concat instead.\n",
      "  final_data=final_data.append(p1)\n"
     ]
    },
    {
     "name": "stdout",
     "output_type": "stream",
     "text": [
      "                                            Link_url  \\\n",
      "0  https://insights.blackcoffer.com/coronavirus-i...   \n",
      "\n",
      "                                              Header  \\\n",
      "0  How Coronavirus Impact on the Hospitality Indu...   \n",
      "\n",
      "                                                Text  \n",
      "0  \\n While Coronavirus has affected the life of ...  \n"
     ]
    },
    {
     "name": "stderr",
     "output_type": "stream",
     "text": [
      "C:\\Users\\Abhimanyu\\AppData\\Local\\Temp\\ipykernel_14116\\741335625.py:4: FutureWarning: The frame.append method is deprecated and will be removed from pandas in a future version. Use pandas.concat instead.\n",
      "  final_data=final_data.append(p1)\n"
     ]
    },
    {
     "name": "stdout",
     "output_type": "stream",
     "text": [
      "                                            Link_url  \\\n",
      "0  https://insights.blackcoffer.com/how-will-covi...   \n",
      "\n",
      "                                        Header  \\\n",
      "0  How will COVID-19 affect the world of work?   \n",
      "\n",
      "                                                Text  \n",
      "0  \\n A respiratory illness that started from pat...  \n"
     ]
    },
    {
     "name": "stderr",
     "output_type": "stream",
     "text": [
      "C:\\Users\\Abhimanyu\\AppData\\Local\\Temp\\ipykernel_14116\\741335625.py:4: FutureWarning: The frame.append method is deprecated and will be removed from pandas in a future version. Use pandas.concat instead.\n",
      "  final_data=final_data.append(p1)\n"
     ]
    },
    {
     "name": "stdout",
     "output_type": "stream",
     "text": [
      "                                            Link_url  \\\n",
      "0  https://insights.blackcoffer.com/coronavirus-i...   \n",
      "\n",
      "                                            Header  \\\n",
      "0  Coronavirus: Effect on the Hospitality Industry   \n",
      "\n",
      "                                                Text  \n",
      "0  \\n The hospitality sector in India has witness...  \n"
     ]
    },
    {
     "name": "stderr",
     "output_type": "stream",
     "text": [
      "C:\\Users\\Abhimanyu\\AppData\\Local\\Temp\\ipykernel_14116\\741335625.py:4: FutureWarning: The frame.append method is deprecated and will be removed from pandas in a future version. Use pandas.concat instead.\n",
      "  final_data=final_data.append(p1)\n"
     ]
    },
    {
     "name": "stdout",
     "output_type": "stream",
     "text": [
      "                                            Link_url  \\\n",
      "0  https://insights.blackcoffer.com/estimating-th...   \n",
      "\n",
      "                                              Header  \\\n",
      "0  Estimating the impact of COVID-19 on the world...   \n",
      "\n",
      "                                                Text  \n",
      "0  \\n “Stay at Home”, “Crisis”, “Pandemic”, “COVI...  \n"
     ]
    },
    {
     "name": "stderr",
     "output_type": "stream",
     "text": [
      "C:\\Users\\Abhimanyu\\AppData\\Local\\Temp\\ipykernel_14116\\741335625.py:4: FutureWarning: The frame.append method is deprecated and will be removed from pandas in a future version. Use pandas.concat instead.\n",
      "  final_data=final_data.append(p1)\n"
     ]
    },
    {
     "name": "stdout",
     "output_type": "stream",
     "text": [
      "                                            Link_url  \\\n",
      "0  https://insights.blackcoffer.com/covid-19-how-...   \n",
      "\n",
      "                                          Header  \\\n",
      "0  COVID-19: How have countries been responding?   \n",
      "\n",
      "                                                Text  \n",
      "0  \\n “If anything kills over 10 million people o...  \n"
     ]
    },
    {
     "name": "stderr",
     "output_type": "stream",
     "text": [
      "C:\\Users\\Abhimanyu\\AppData\\Local\\Temp\\ipykernel_14116\\741335625.py:4: FutureWarning: The frame.append method is deprecated and will be removed from pandas in a future version. Use pandas.concat instead.\n",
      "  final_data=final_data.append(p1)\n"
     ]
    },
    {
     "name": "stdout",
     "output_type": "stream",
     "text": [
      "                                            Link_url  \\\n",
      "0  https://insights.blackcoffer.com/how-will-covi...   \n",
      "\n",
      "                                        Header  \\\n",
      "0  How will COVID-19 affect the world of work?   \n",
      "\n",
      "                                                Text  \n",
      "0  \\n COVID19 affects the world from every way li...  \n"
     ]
    },
    {
     "name": "stderr",
     "output_type": "stream",
     "text": [
      "C:\\Users\\Abhimanyu\\AppData\\Local\\Temp\\ipykernel_14116\\741335625.py:4: FutureWarning: The frame.append method is deprecated and will be removed from pandas in a future version. Use pandas.concat instead.\n",
      "  final_data=final_data.append(p1)\n"
     ]
    },
    {
     "name": "stdout",
     "output_type": "stream",
     "text": [
      "                                            Link_url  \\\n",
      "0  https://insights.blackcoffer.com/lessons-from-...   \n",
      "\n",
      "                                              Header  \\\n",
      "0  Lessons from the past: Some key learnings rele...   \n",
      "\n",
      "                                                Text  \n",
      "0  \\n “The more you know about the past, the bett...  \n"
     ]
    },
    {
     "name": "stderr",
     "output_type": "stream",
     "text": [
      "C:\\Users\\Abhimanyu\\AppData\\Local\\Temp\\ipykernel_14116\\741335625.py:4: FutureWarning: The frame.append method is deprecated and will be removed from pandas in a future version. Use pandas.concat instead.\n",
      "  final_data=final_data.append(p1)\n"
     ]
    },
    {
     "name": "stdout",
     "output_type": "stream",
     "text": [
      "                                            Link_url  \\\n",
      "0  https://insights.blackcoffer.com/lessons-from-...   \n",
      "\n",
      "                                              Header  \\\n",
      "0  Lessons from the past: Some key learnings rele...   \n",
      "\n",
      "                                                Text  \n",
      "0  \\n The current topic that is burning the world...  \n"
     ]
    },
    {
     "name": "stderr",
     "output_type": "stream",
     "text": [
      "C:\\Users\\Abhimanyu\\AppData\\Local\\Temp\\ipykernel_14116\\741335625.py:4: FutureWarning: The frame.append method is deprecated and will be removed from pandas in a future version. Use pandas.concat instead.\n",
      "  final_data=final_data.append(p1)\n"
     ]
    },
    {
     "name": "stdout",
     "output_type": "stream",
     "text": [
      "                                            Link_url  \\\n",
      "0  https://insights.blackcoffer.com/coronavirus-i...   \n",
      "\n",
      "                                            Header  \\\n",
      "0  Coronavirus: Impact on the Hospitality Industry   \n",
      "\n",
      "                                                Text  \n",
      "0  \\n Coronavirus, now globally carrying the stat...  \n"
     ]
    },
    {
     "name": "stderr",
     "output_type": "stream",
     "text": [
      "C:\\Users\\Abhimanyu\\AppData\\Local\\Temp\\ipykernel_14116\\741335625.py:4: FutureWarning: The frame.append method is deprecated and will be removed from pandas in a future version. Use pandas.concat instead.\n",
      "  final_data=final_data.append(p1)\n"
     ]
    },
    {
     "name": "stdout",
     "output_type": "stream",
     "text": [
      "                                            Link_url  \\\n",
      "0  https://insights.blackcoffer.com/why-scams-lik...   \n",
      "\n",
      "                                              Header  \\\n",
      "0  Why scams like Nirav Modi Happen with Indian b...   \n",
      "\n",
      "                                                Text  \n",
      "0  \\n India has been beset by financial scams sin...  \n"
     ]
    },
    {
     "name": "stderr",
     "output_type": "stream",
     "text": [
      "C:\\Users\\Abhimanyu\\AppData\\Local\\Temp\\ipykernel_14116\\741335625.py:4: FutureWarning: The frame.append method is deprecated and will be removed from pandas in a future version. Use pandas.concat instead.\n",
      "  final_data=final_data.append(p1)\n"
     ]
    },
    {
     "name": "stdout",
     "output_type": "stream",
     "text": [
      "                                            Link_url  \\\n",
      "0  https://insights.blackcoffer.com/impact-of-cov...   \n",
      "\n",
      "                                     Header  \\\n",
      "0  IMPACT OF COVID-19 ON THE GLOBAL ECONOMY   \n",
      "\n",
      "                                                Text  \n",
      "0  \\n It was 14th March and I was\\naltogether pre...  \n"
     ]
    },
    {
     "name": "stderr",
     "output_type": "stream",
     "text": [
      "C:\\Users\\Abhimanyu\\AppData\\Local\\Temp\\ipykernel_14116\\741335625.py:4: FutureWarning: The frame.append method is deprecated and will be removed from pandas in a future version. Use pandas.concat instead.\n",
      "  final_data=final_data.append(p1)\n"
     ]
    },
    {
     "name": "stdout",
     "output_type": "stream",
     "text": [
      "                                            Link_url  \\\n",
      "0  https://insights.blackcoffer.com/impact-of-cov...   \n",
      "\n",
      "                                        Header  \\\n",
      "0  Impact of coronavirus on the Indian economy   \n",
      "\n",
      "                                                Text  \n",
      "0  \\n Nathan Wolfe Impact once said “There\\nare c...  \n"
     ]
    },
    {
     "name": "stderr",
     "output_type": "stream",
     "text": [
      "C:\\Users\\Abhimanyu\\AppData\\Local\\Temp\\ipykernel_14116\\741335625.py:4: FutureWarning: The frame.append method is deprecated and will be removed from pandas in a future version. Use pandas.concat instead.\n",
      "  final_data=final_data.append(p1)\n"
     ]
    },
    {
     "name": "stdout",
     "output_type": "stream",
     "text": [
      "                                            Link_url  \\\n",
      "0  https://insights.blackcoffer.com/impact-of-cov...   \n",
      "\n",
      "                                   Header  \\\n",
      "0  Global Economy effected by Coronavirus   \n",
      "\n",
      "                                                Text  \n",
      "0  \\n INTRODUCTION \\n Coronavirus disease  (COVID...  \n"
     ]
    },
    {
     "name": "stderr",
     "output_type": "stream",
     "text": [
      "C:\\Users\\Abhimanyu\\AppData\\Local\\Temp\\ipykernel_14116\\741335625.py:4: FutureWarning: The frame.append method is deprecated and will be removed from pandas in a future version. Use pandas.concat instead.\n",
      "  final_data=final_data.append(p1)\n"
     ]
    },
    {
     "name": "stdout",
     "output_type": "stream",
     "text": [
      "                                            Link_url  \\\n",
      "0  https://insights.blackcoffer.com/impact-of-cov...   \n",
      "\n",
      "                                              Header  \\\n",
      "0  Impact of COVID-19 (Coronavirus) on the Indian...   \n",
      "\n",
      "                                                Text  \n",
      "0  \\n From the economic point of\\nview, India is ...  \n"
     ]
    },
    {
     "name": "stderr",
     "output_type": "stream",
     "text": [
      "C:\\Users\\Abhimanyu\\AppData\\Local\\Temp\\ipykernel_14116\\741335625.py:4: FutureWarning: The frame.append method is deprecated and will be removed from pandas in a future version. Use pandas.concat instead.\n",
      "  final_data=final_data.append(p1)\n"
     ]
    },
    {
     "name": "stdout",
     "output_type": "stream",
     "text": [
      "                                            Link_url  \\\n",
      "0  https://insights.blackcoffer.com/should-celebr...   \n",
      "\n",
      "                                            Header  \\\n",
      "0  Should celebrities be allowed to join politics?   \n",
      "\n",
      "                                                Text  \n",
      "0  \\n In today’s day and age of hyper-connectivit...  \n"
     ]
    },
    {
     "name": "stderr",
     "output_type": "stream",
     "text": [
      "C:\\Users\\Abhimanyu\\AppData\\Local\\Temp\\ipykernel_14116\\741335625.py:4: FutureWarning: The frame.append method is deprecated and will be removed from pandas in a future version. Use pandas.concat instead.\n",
      "  final_data=final_data.append(p1)\n"
     ]
    },
    {
     "name": "stdout",
     "output_type": "stream",
     "text": [
      "                                            Link_url  \\\n",
      "0  https://insights.blackcoffer.com/how-prepared-...   \n",
      "\n",
      "                                              Header  \\\n",
      "0  How prepared is India to tackle a possible COV...   \n",
      "\n",
      "                                                Text  \n",
      "0  \\n Frankly, no! The state of the public health...  \n"
     ]
    },
    {
     "name": "stderr",
     "output_type": "stream",
     "text": [
      "C:\\Users\\Abhimanyu\\AppData\\Local\\Temp\\ipykernel_14116\\741335625.py:4: FutureWarning: The frame.append method is deprecated and will be removed from pandas in a future version. Use pandas.concat instead.\n",
      "  final_data=final_data.append(p1)\n"
     ]
    },
    {
     "name": "stdout",
     "output_type": "stream",
     "text": [
      "                                            Link_url  \\\n",
      "0  https://insights.blackcoffer.com/how-will-covi...   \n",
      "\n",
      "                                        Header  \\\n",
      "0  How will COVID-19 affect the world of work?   \n",
      "\n",
      "                                                Text  \n",
      "0  \\n Every prophet of doom, unless he also happe...  \n"
     ]
    },
    {
     "name": "stderr",
     "output_type": "stream",
     "text": [
      "C:\\Users\\Abhimanyu\\AppData\\Local\\Temp\\ipykernel_14116\\741335625.py:4: FutureWarning: The frame.append method is deprecated and will be removed from pandas in a future version. Use pandas.concat instead.\n",
      "  final_data=final_data.append(p1)\n"
     ]
    },
    {
     "name": "stdout",
     "output_type": "stream",
     "text": [
      "                                            Link_url  \\\n",
      "0  https://insights.blackcoffer.com/controversy-a...   \n",
      "\n",
      "                                Header  \\\n",
      "0  Controversy as a Marketing Strategy   \n",
      "\n",
      "                                                Text  \n",
      "0  \\n Organizations burn a lot of resources to bu...  \n"
     ]
    },
    {
     "name": "stderr",
     "output_type": "stream",
     "text": [
      "C:\\Users\\Abhimanyu\\AppData\\Local\\Temp\\ipykernel_14116\\741335625.py:4: FutureWarning: The frame.append method is deprecated and will be removed from pandas in a future version. Use pandas.concat instead.\n",
      "  final_data=final_data.append(p1)\n"
     ]
    },
    {
     "name": "stdout",
     "output_type": "stream",
     "text": [
      "                                            Link_url  \\\n",
      "0  https://insights.blackcoffer.com/coronavirus-i...   \n",
      "\n",
      "                                            Header  \\\n",
      "0  Coronavirus: Impact on the Hospitality Industry   \n",
      "\n",
      "                                                Text  \n",
      "0  \\n Before jumping on the topic I would like to...  \n"
     ]
    },
    {
     "name": "stderr",
     "output_type": "stream",
     "text": [
      "C:\\Users\\Abhimanyu\\AppData\\Local\\Temp\\ipykernel_14116\\741335625.py:4: FutureWarning: The frame.append method is deprecated and will be removed from pandas in a future version. Use pandas.concat instead.\n",
      "  final_data=final_data.append(p1)\n"
     ]
    },
    {
     "name": "stdout",
     "output_type": "stream",
     "text": [
      "                                            Link_url  \\\n",
      "0  https://insights.blackcoffer.com/coronavirus-i...   \n",
      "\n",
      "                                 Header  \\\n",
      "0  Coronavirus impact on energy markets   \n",
      "\n",
      "                                                Text  \n",
      "0  \\n As the coronavirus spreads around the world...  \n"
     ]
    },
    {
     "name": "stderr",
     "output_type": "stream",
     "text": [
      "C:\\Users\\Abhimanyu\\AppData\\Local\\Temp\\ipykernel_14116\\741335625.py:4: FutureWarning: The frame.append method is deprecated and will be removed from pandas in a future version. Use pandas.concat instead.\n",
      "  final_data=final_data.append(p1)\n"
     ]
    },
    {
     "name": "stdout",
     "output_type": "stream",
     "text": [
      "                                            Link_url  \\\n",
      "0  https://insights.blackcoffer.com/what-are-the-...   \n",
      "\n",
      "                                              Header  \\\n",
      "0  What are the key policies that will mitigate t...   \n",
      "\n",
      "                                                Text  \n",
      "0  \\n From Alibaba to Ping An and Google to Ford,...  \n"
     ]
    },
    {
     "name": "stderr",
     "output_type": "stream",
     "text": [
      "C:\\Users\\Abhimanyu\\AppData\\Local\\Temp\\ipykernel_14116\\741335625.py:4: FutureWarning: The frame.append method is deprecated and will be removed from pandas in a future version. Use pandas.concat instead.\n",
      "  final_data=final_data.append(p1)\n"
     ]
    },
    {
     "name": "stdout",
     "output_type": "stream",
     "text": [
      "                                            Link_url  \\\n",
      "0  https://insights.blackcoffer.com/marketing-dri...   \n",
      "\n",
      "                                              Header  \\\n",
      "0  Marketing Drives Results With A Focus On Problems   \n",
      "\n",
      "                                                Text  \n",
      "0  \\n When\\nthe British ruled India, many Indians...  \n"
     ]
    },
    {
     "name": "stderr",
     "output_type": "stream",
     "text": [
      "C:\\Users\\Abhimanyu\\AppData\\Local\\Temp\\ipykernel_14116\\741335625.py:4: FutureWarning: The frame.append method is deprecated and will be removed from pandas in a future version. Use pandas.concat instead.\n",
      "  final_data=final_data.append(p1)\n"
     ]
    },
    {
     "name": "stdout",
     "output_type": "stream",
     "text": [
      "                                            Link_url  \\\n",
      "0  https://insights.blackcoffer.com/continued-dem...   \n",
      "\n",
      "                                Header  \\\n",
      "0  Continued Demand for Sustainability   \n",
      "\n",
      "                                                Text  \n",
      "0  \\n The business of business is no longer to do...  \n"
     ]
    },
    {
     "name": "stderr",
     "output_type": "stream",
     "text": [
      "C:\\Users\\Abhimanyu\\AppData\\Local\\Temp\\ipykernel_14116\\741335625.py:4: FutureWarning: The frame.append method is deprecated and will be removed from pandas in a future version. Use pandas.concat instead.\n",
      "  final_data=final_data.append(p1)\n"
     ]
    },
    {
     "name": "stdout",
     "output_type": "stream",
     "text": [
      "                                            Link_url  \\\n",
      "0  https://insights.blackcoffer.com/coronavirus-d...   \n",
      "\n",
      "                                              Header  \\\n",
      "0  Coronavirus Disease (COVID-19) Effect: The Imp...   \n",
      "\n",
      "                                                Text  \n",
      "0  \\n The outbreak of coronavirus disease 2019 (C...  \n"
     ]
    },
    {
     "name": "stderr",
     "output_type": "stream",
     "text": [
      "C:\\Users\\Abhimanyu\\AppData\\Local\\Temp\\ipykernel_14116\\741335625.py:4: FutureWarning: The frame.append method is deprecated and will be removed from pandas in a future version. Use pandas.concat instead.\n",
      "  final_data=final_data.append(p1)\n"
     ]
    },
    {
     "name": "stdout",
     "output_type": "stream",
     "text": [
      "                                            Link_url  \\\n",
      "0  https://insights.blackcoffer.com/should-people...   \n",
      "\n",
      "                                              Header  \\\n",
      "0  Should people wear fabric gloves? Seeking evid...   \n",
      "\n",
      "                                                Text  \n",
      "0  \\n Is there any evidence about whether fabric ...  \n"
     ]
    },
    {
     "name": "stderr",
     "output_type": "stream",
     "text": [
      "C:\\Users\\Abhimanyu\\AppData\\Local\\Temp\\ipykernel_14116\\741335625.py:4: FutureWarning: The frame.append method is deprecated and will be removed from pandas in a future version. Use pandas.concat instead.\n",
      "  final_data=final_data.append(p1)\n"
     ]
    },
    {
     "name": "stdout",
     "output_type": "stream",
     "text": [
      "                                            Link_url  \\\n",
      "0  https://insights.blackcoffer.com/why-is-there-...   \n",
      "\n",
      "                                              Header  \\\n",
      "0  Why is there a severe immunological and inflam...   \n",
      "\n",
      "                                                Text  \n",
      "0  \\n Why is there a severe immunological and inf...  \n"
     ]
    },
    {
     "name": "stderr",
     "output_type": "stream",
     "text": [
      "C:\\Users\\Abhimanyu\\AppData\\Local\\Temp\\ipykernel_14116\\741335625.py:4: FutureWarning: The frame.append method is deprecated and will be removed from pandas in a future version. Use pandas.concat instead.\n",
      "  final_data=final_data.append(p1)\n"
     ]
    },
    {
     "name": "stdout",
     "output_type": "stream",
     "text": [
      "                                            Link_url  \\\n",
      "0  https://insights.blackcoffer.com/what-do-you-t...   \n",
      "\n",
      "                                              Header  \\\n",
      "0  What do you think is the lesson (or lessons) t...   \n",
      "\n",
      "                                                Text  \n",
      "0  \\n What we can learn, is to have frequent upda...  \n"
     ]
    },
    {
     "name": "stderr",
     "output_type": "stream",
     "text": [
      "C:\\Users\\Abhimanyu\\AppData\\Local\\Temp\\ipykernel_14116\\741335625.py:4: FutureWarning: The frame.append method is deprecated and will be removed from pandas in a future version. Use pandas.concat instead.\n",
      "  final_data=final_data.append(p1)\n"
     ]
    },
    {
     "name": "stdout",
     "output_type": "stream",
     "text": [
      "                                            Link_url  \\\n",
      "0  https://insights.blackcoffer.com/coronavirus-t...   \n",
      "\n",
      "                                              Header  \\\n",
      "0  Coronavirus, the unexpected challenge for the ...   \n",
      "\n",
      "                                                Text  \n",
      "0  \\n Since the creation of the EU, we have been ...  \n"
     ]
    },
    {
     "name": "stderr",
     "output_type": "stream",
     "text": [
      "C:\\Users\\Abhimanyu\\AppData\\Local\\Temp\\ipykernel_14116\\741335625.py:4: FutureWarning: The frame.append method is deprecated and will be removed from pandas in a future version. Use pandas.concat instead.\n",
      "  final_data=final_data.append(p1)\n"
     ]
    },
    {
     "name": "stdout",
     "output_type": "stream",
     "text": [
      "                                            Link_url  \\\n",
      "0  https://insights.blackcoffer.com/industrial-re...   \n",
      "\n",
      "                                      Header  \\\n",
      "0  INDUSTRIAL REVOLUTION 4.0 – PROS AND CONS   \n",
      "\n",
      "                                                Text  \n",
      "0  \\n Before jumping to the pros and cons of indu...  \n"
     ]
    },
    {
     "name": "stderr",
     "output_type": "stream",
     "text": [
      "C:\\Users\\Abhimanyu\\AppData\\Local\\Temp\\ipykernel_14116\\741335625.py:4: FutureWarning: The frame.append method is deprecated and will be removed from pandas in a future version. Use pandas.concat instead.\n",
      "  final_data=final_data.append(p1)\n"
     ]
    },
    {
     "name": "stdout",
     "output_type": "stream",
     "text": [
      "                                            Link_url  \\\n",
      "0  https://insights.blackcoffer.com/impact-of-cov...   \n",
      "\n",
      "                       Header  \\\n",
      "0  COVID-19 Vs Indian Economy   \n",
      "\n",
      "                                                Text  \n",
      "0  \\n India is on the verge of an unprecedented e...  \n"
     ]
    },
    {
     "name": "stderr",
     "output_type": "stream",
     "text": [
      "C:\\Users\\Abhimanyu\\AppData\\Local\\Temp\\ipykernel_14116\\741335625.py:4: FutureWarning: The frame.append method is deprecated and will be removed from pandas in a future version. Use pandas.concat instead.\n",
      "  final_data=final_data.append(p1)\n"
     ]
    },
    {
     "name": "stdout",
     "output_type": "stream",
     "text": [
      "                                            Link_url  \\\n",
      "0  https://insights.blackcoffer.com/impact-of-cov...   \n",
      "\n",
      "                                              Header  \\\n",
      "0  Impact of COVID-19 (Coronavirus) on the Indian...   \n",
      "\n",
      "                                                Text  \n",
      "0  \\n The\\ncorona outbreak has hit us hard. With ...  \n"
     ]
    },
    {
     "name": "stderr",
     "output_type": "stream",
     "text": [
      "C:\\Users\\Abhimanyu\\AppData\\Local\\Temp\\ipykernel_14116\\741335625.py:4: FutureWarning: The frame.append method is deprecated and will be removed from pandas in a future version. Use pandas.concat instead.\n",
      "  final_data=final_data.append(p1)\n"
     ]
    },
    {
     "name": "stdout",
     "output_type": "stream",
     "text": [
      "                                            Link_url  \\\n",
      "0  https://insights.blackcoffer.com/impact-of-cov...   \n",
      "\n",
      "                                     Header  \\\n",
      "0  Impact of Indian Economy due to COVID-19   \n",
      "\n",
      "                                                Text  \n",
      "0  \\n COVID-19: INTRODUCTION \\n The Novel Coronav...  \n"
     ]
    },
    {
     "name": "stderr",
     "output_type": "stream",
     "text": [
      "C:\\Users\\Abhimanyu\\AppData\\Local\\Temp\\ipykernel_14116\\741335625.py:4: FutureWarning: The frame.append method is deprecated and will be removed from pandas in a future version. Use pandas.concat instead.\n",
      "  final_data=final_data.append(p1)\n"
     ]
    },
    {
     "name": "stdout",
     "output_type": "stream",
     "text": [
      "                                            Link_url  \\\n",
      "0  https://insights.blackcoffer.com/impact-of-cov...   \n",
      "\n",
      "                                              Header  \\\n",
      "0  Impact of newly discovered coronavirus on the ...   \n",
      "\n",
      "                                                Text  \n",
      "0  \\n What is Coronavirus? Is it a disease? How i...  \n"
     ]
    },
    {
     "name": "stderr",
     "output_type": "stream",
     "text": [
      "C:\\Users\\Abhimanyu\\AppData\\Local\\Temp\\ipykernel_14116\\741335625.py:4: FutureWarning: The frame.append method is deprecated and will be removed from pandas in a future version. Use pandas.concat instead.\n",
      "  final_data=final_data.append(p1)\n"
     ]
    },
    {
     "name": "stdout",
     "output_type": "stream",
     "text": [
      "no url found\n",
      "                                            Link_url         Header  \\\n",
      "0  https://insights.blackcoffer.com/ensuring-grow...  url not found   \n",
      "\n",
      "            Text  \n",
      "0  url not found  \n"
     ]
    },
    {
     "name": "stderr",
     "output_type": "stream",
     "text": [
      "C:\\Users\\Abhimanyu\\AppData\\Local\\Temp\\ipykernel_14116\\741335625.py:4: FutureWarning: The frame.append method is deprecated and will be removed from pandas in a future version. Use pandas.concat instead.\n",
      "  final_data=final_data.append(p1)\n"
     ]
    },
    {
     "name": "stdout",
     "output_type": "stream",
     "text": [
      "                                            Link_url                 Header  \\\n",
      "0  https://insights.blackcoffer.com/blockchain-in...  Blockchain in Fintech   \n",
      "\n",
      "                                                Text  \n",
      "0  \\n Disruption in Fintech – The Lightning Netwo...  \n"
     ]
    },
    {
     "name": "stderr",
     "output_type": "stream",
     "text": [
      "C:\\Users\\Abhimanyu\\AppData\\Local\\Temp\\ipykernel_14116\\741335625.py:4: FutureWarning: The frame.append method is deprecated and will be removed from pandas in a future version. Use pandas.concat instead.\n",
      "  final_data=final_data.append(p1)\n"
     ]
    },
    {
     "name": "stdout",
     "output_type": "stream",
     "text": [
      "                                            Link_url                   Header  \\\n",
      "0  https://insights.blackcoffer.com/blockchain-fo...  Blockchain for Payments   \n",
      "\n",
      "                                                Text  \n",
      "0  \\n Reconciling with the financial realities of...  \n"
     ]
    },
    {
     "name": "stderr",
     "output_type": "stream",
     "text": [
      "C:\\Users\\Abhimanyu\\AppData\\Local\\Temp\\ipykernel_14116\\741335625.py:4: FutureWarning: The frame.append method is deprecated and will be removed from pandas in a future version. Use pandas.concat instead.\n",
      "  final_data=final_data.append(p1)\n"
     ]
    },
    {
     "name": "stdout",
     "output_type": "stream",
     "text": [
      "                                            Link_url                   Header  \\\n",
      "0  https://insights.blackcoffer.com/the-future-of...  The future of Investing   \n",
      "\n",
      "                                                Text  \n",
      "0  \\n What Is an Investment? \\n An investment is ...  \n"
     ]
    },
    {
     "name": "stderr",
     "output_type": "stream",
     "text": [
      "C:\\Users\\Abhimanyu\\AppData\\Local\\Temp\\ipykernel_14116\\741335625.py:4: FutureWarning: The frame.append method is deprecated and will be removed from pandas in a future version. Use pandas.concat instead.\n",
      "  final_data=final_data.append(p1)\n"
     ]
    },
    {
     "name": "stdout",
     "output_type": "stream",
     "text": [
      "                                            Link_url  \\\n",
      "0  https://insights.blackcoffer.com/big-data-anal...   \n",
      "\n",
      "                             Header  \\\n",
      "0  Big Data Analytics in Healthcare   \n",
      "\n",
      "                                                Text  \n",
      "0  \\n Quality and affordable healthcare is a visi...  \n"
     ]
    },
    {
     "name": "stderr",
     "output_type": "stream",
     "text": [
      "C:\\Users\\Abhimanyu\\AppData\\Local\\Temp\\ipykernel_14116\\741335625.py:4: FutureWarning: The frame.append method is deprecated and will be removed from pandas in a future version. Use pandas.concat instead.\n",
      "  final_data=final_data.append(p1)\n"
     ]
    },
    {
     "name": "stdout",
     "output_type": "stream",
     "text": [
      "                                            Link_url  \\\n",
      "0  https://insights.blackcoffer.com/business-anal...   \n",
      "\n",
      "                                          Header  \\\n",
      "0  Business Analytics In The Healthcare Industry   \n",
      "\n",
      "                                                Text  \n",
      "0  \\n Analytics is a statistical scientific proce...  \n"
     ]
    },
    {
     "name": "stderr",
     "output_type": "stream",
     "text": [
      "C:\\Users\\Abhimanyu\\AppData\\Local\\Temp\\ipykernel_14116\\741335625.py:4: FutureWarning: The frame.append method is deprecated and will be removed from pandas in a future version. Use pandas.concat instead.\n",
      "  final_data=final_data.append(p1)\n"
     ]
    },
    {
     "name": "stdout",
     "output_type": "stream",
     "text": [
      "                                            Link_url  \\\n",
      "0  https://insights.blackcoffer.com/challenges-an...   \n",
      "\n",
      "                                              Header  \\\n",
      "0  Challenges and Opportunities of Big Data in He...   \n",
      "\n",
      "                                                Text  \n",
      "0  \\n Big Data \\n To begin with I shall first lik...  \n"
     ]
    },
    {
     "name": "stderr",
     "output_type": "stream",
     "text": [
      "C:\\Users\\Abhimanyu\\AppData\\Local\\Temp\\ipykernel_14116\\741335625.py:4: FutureWarning: The frame.append method is deprecated and will be removed from pandas in a future version. Use pandas.concat instead.\n",
      "  final_data=final_data.append(p1)\n"
     ]
    }
   ],
   "source": [
    "for i in s_link:\n",
    "    p1=data_link(i)\n",
    "    print(p1)\n",
    "    final_data=final_data.append(p1)"
   ]
  },
  {
   "cell_type": "code",
   "execution_count": 8,
   "id": "d65a79f4",
   "metadata": {},
   "outputs": [],
   "source": [
    "final_data=final_data.reset_index()"
   ]
  },
  {
   "cell_type": "code",
   "execution_count": 9,
   "id": "5fa2f85e",
   "metadata": {},
   "outputs": [],
   "source": [
    "final_data=final_data.drop('index',axis=1)"
   ]
  },
  {
   "cell_type": "code",
   "execution_count": 10,
   "id": "56c748e4",
   "metadata": {},
   "outputs": [
    {
     "data": {
      "text/html": [
       "<div>\n",
       "<style scoped>\n",
       "    .dataframe tbody tr th:only-of-type {\n",
       "        vertical-align: middle;\n",
       "    }\n",
       "\n",
       "    .dataframe tbody tr th {\n",
       "        vertical-align: top;\n",
       "    }\n",
       "\n",
       "    .dataframe thead th {\n",
       "        text-align: right;\n",
       "    }\n",
       "</style>\n",
       "<table border=\"1\" class=\"dataframe\">\n",
       "  <thead>\n",
       "    <tr style=\"text-align: right;\">\n",
       "      <th></th>\n",
       "      <th>Link_url</th>\n",
       "      <th>Header</th>\n",
       "      <th>Text</th>\n",
       "    </tr>\n",
       "  </thead>\n",
       "  <tbody>\n",
       "    <tr>\n",
       "      <th>0</th>\n",
       "      <td>https://insights.blackcoffer.com/ai-in-healthc...</td>\n",
       "      <td>AI in healthcare to Improve Patient Outcomes</td>\n",
       "      <td>\\n Introduction \\n “If anything kills over 10 ...</td>\n",
       "    </tr>\n",
       "    <tr>\n",
       "      <th>1</th>\n",
       "      <td>https://insights.blackcoffer.com/what-if-the-c...</td>\n",
       "      <td>What if the Creation is Taking Over the Creator?</td>\n",
       "      <td>\\n Human minds, a fascination in itself carryi...</td>\n",
       "    </tr>\n",
       "    <tr>\n",
       "      <th>2</th>\n",
       "      <td>https://insights.blackcoffer.com/what-jobs-wil...</td>\n",
       "      <td>What Jobs Will Robots Take From Humans in The ...</td>\n",
       "      <td>\\n Introduction \\n AI is rapidly evolving in t...</td>\n",
       "    </tr>\n",
       "    <tr>\n",
       "      <th>3</th>\n",
       "      <td>https://insights.blackcoffer.com/will-machine-...</td>\n",
       "      <td>Will Machine Replace The Human in the Future o...</td>\n",
       "      <td>\\n “Anything that could give rise to smarter-t...</td>\n",
       "    </tr>\n",
       "    <tr>\n",
       "      <th>4</th>\n",
       "      <td>https://insights.blackcoffer.com/will-ai-repla...</td>\n",
       "      <td>Will AI Replace Us or Work With Us?</td>\n",
       "      <td>\\n “Machine intelligence is the last invention...</td>\n",
       "    </tr>\n",
       "  </tbody>\n",
       "</table>\n",
       "</div>"
      ],
      "text/plain": [
       "                                            Link_url  \\\n",
       "0  https://insights.blackcoffer.com/ai-in-healthc...   \n",
       "1  https://insights.blackcoffer.com/what-if-the-c...   \n",
       "2  https://insights.blackcoffer.com/what-jobs-wil...   \n",
       "3  https://insights.blackcoffer.com/will-machine-...   \n",
       "4  https://insights.blackcoffer.com/will-ai-repla...   \n",
       "\n",
       "                                              Header  \\\n",
       "0       AI in healthcare to Improve Patient Outcomes   \n",
       "1   What if the Creation is Taking Over the Creator?   \n",
       "2  What Jobs Will Robots Take From Humans in The ...   \n",
       "3  Will Machine Replace The Human in the Future o...   \n",
       "4                Will AI Replace Us or Work With Us?   \n",
       "\n",
       "                                                Text  \n",
       "0  \\n Introduction \\n “If anything kills over 10 ...  \n",
       "1  \\n Human minds, a fascination in itself carryi...  \n",
       "2  \\n Introduction \\n AI is rapidly evolving in t...  \n",
       "3  \\n “Anything that could give rise to smarter-t...  \n",
       "4  \\n “Machine intelligence is the last invention...  "
      ]
     },
     "execution_count": 10,
     "metadata": {},
     "output_type": "execute_result"
    }
   ],
   "source": [
    "final_data.head()"
   ]
  },
  {
   "cell_type": "code",
   "execution_count": 11,
   "id": "14fa0fac",
   "metadata": {},
   "outputs": [],
   "source": [
    "final_data.to_excel(r'Test.xlsx')"
   ]
  },
  {
   "cell_type": "code",
   "execution_count": 46,
   "id": "7e110597",
   "metadata": {},
   "outputs": [],
   "source": [
    "final_data1=final_data.copy()"
   ]
  },
  {
   "cell_type": "code",
   "execution_count": 47,
   "id": "94c8b632",
   "metadata": {},
   "outputs": [],
   "source": [
    "import re"
   ]
  },
  {
   "cell_type": "code",
   "execution_count": 48,
   "id": "c1395805",
   "metadata": {},
   "outputs": [],
   "source": [
    "x=re.sub(r'\\n', '', final_data['Text'][1])"
   ]
  },
  {
   "cell_type": "code",
   "execution_count": 49,
   "id": "2c5cad2b",
   "metadata": {},
   "outputs": [
    {
     "data": {
      "text/html": [
       "<div>\n",
       "<style scoped>\n",
       "    .dataframe tbody tr th:only-of-type {\n",
       "        vertical-align: middle;\n",
       "    }\n",
       "\n",
       "    .dataframe tbody tr th {\n",
       "        vertical-align: top;\n",
       "    }\n",
       "\n",
       "    .dataframe thead th {\n",
       "        text-align: right;\n",
       "    }\n",
       "</style>\n",
       "<table border=\"1\" class=\"dataframe\">\n",
       "  <thead>\n",
       "    <tr style=\"text-align: right;\">\n",
       "      <th></th>\n",
       "      <th>Link_url</th>\n",
       "      <th>Header</th>\n",
       "      <th>Text</th>\n",
       "    </tr>\n",
       "  </thead>\n",
       "  <tbody>\n",
       "    <tr>\n",
       "      <th>0</th>\n",
       "      <td>https://insights.blackcoffer.com/ai-in-healthc...</td>\n",
       "      <td>AI in healthcare to Improve Patient Outcomes</td>\n",
       "      <td>Introduction  “If anything kills over 10 mill...</td>\n",
       "    </tr>\n",
       "    <tr>\n",
       "      <th>1</th>\n",
       "      <td>https://insights.blackcoffer.com/what-if-the-c...</td>\n",
       "      <td>What if the Creation is Taking Over the Creator?</td>\n",
       "      <td>Human minds, a fascination in itself carrying...</td>\n",
       "    </tr>\n",
       "    <tr>\n",
       "      <th>2</th>\n",
       "      <td>https://insights.blackcoffer.com/what-jobs-wil...</td>\n",
       "      <td>What Jobs Will Robots Take From Humans in The ...</td>\n",
       "      <td>Introduction  AI is rapidly evolving in the e...</td>\n",
       "    </tr>\n",
       "    <tr>\n",
       "      <th>3</th>\n",
       "      <td>https://insights.blackcoffer.com/will-machine-...</td>\n",
       "      <td>Will Machine Replace The Human in the Future o...</td>\n",
       "      <td>“Anything that could give rise to smarter-tha...</td>\n",
       "    </tr>\n",
       "    <tr>\n",
       "      <th>4</th>\n",
       "      <td>https://insights.blackcoffer.com/will-ai-repla...</td>\n",
       "      <td>Will AI Replace Us or Work With Us?</td>\n",
       "      <td>“Machine intelligence is the last invention t...</td>\n",
       "    </tr>\n",
       "  </tbody>\n",
       "</table>\n",
       "</div>"
      ],
      "text/plain": [
       "                                            Link_url  \\\n",
       "0  https://insights.blackcoffer.com/ai-in-healthc...   \n",
       "1  https://insights.blackcoffer.com/what-if-the-c...   \n",
       "2  https://insights.blackcoffer.com/what-jobs-wil...   \n",
       "3  https://insights.blackcoffer.com/will-machine-...   \n",
       "4  https://insights.blackcoffer.com/will-ai-repla...   \n",
       "\n",
       "                                              Header  \\\n",
       "0       AI in healthcare to Improve Patient Outcomes   \n",
       "1   What if the Creation is Taking Over the Creator?   \n",
       "2  What Jobs Will Robots Take From Humans in The ...   \n",
       "3  Will Machine Replace The Human in the Future o...   \n",
       "4                Will AI Replace Us or Work With Us?   \n",
       "\n",
       "                                                Text  \n",
       "0   Introduction  “If anything kills over 10 mill...  \n",
       "1   Human minds, a fascination in itself carrying...  \n",
       "2   Introduction  AI is rapidly evolving in the e...  \n",
       "3   “Anything that could give rise to smarter-tha...  \n",
       "4   “Machine intelligence is the last invention t...  "
      ]
     },
     "execution_count": 49,
     "metadata": {},
     "output_type": "execute_result"
    }
   ],
   "source": [
    "for i in range(0,len(final_data1)):\n",
    "    final_data1['Text'][i]=re.sub(r'(\\n|\\xa0)', '',final_data1['Text'][i])\n",
    "final_data1.head()"
   ]
  },
  {
   "cell_type": "code",
   "execution_count": 51,
   "id": "77c6c980",
   "metadata": {},
   "outputs": [],
   "source": [
    "final_data1.to_excel(r'Test1.xlsx')"
   ]
  },
  {
   "cell_type": "markdown",
   "id": "08042d28",
   "metadata": {},
   "source": [
    "# "
   ]
  },
  {
   "cell_type": "code",
   "execution_count": 2,
   "id": "f52395c0",
   "metadata": {},
   "outputs": [],
   "source": [
    "import pandas as pd\n",
    "import glob"
   ]
  },
  {
   "cell_type": "code",
   "execution_count": 25,
   "id": "214de944",
   "metadata": {
    "scrolled": true
   },
   "outputs": [],
   "source": [
    "files=glob.glob(r'C:\\Users\\Abhimanyu\\Downloads\\internshala assignment\\StopWords\\*.txt')"
   ]
  },
  {
   "cell_type": "code",
   "execution_count": 26,
   "id": "44c653b6",
   "metadata": {},
   "outputs": [
    {
     "data": {
      "text/plain": [
       "['C:\\\\Users\\\\Abhimanyu\\\\Downloads\\\\internshala assignment\\\\StopWords\\\\StopWords_Auditor.txt',\n",
       " 'C:\\\\Users\\\\Abhimanyu\\\\Downloads\\\\internshala assignment\\\\StopWords\\\\StopWords_Currencies.txt',\n",
       " 'C:\\\\Users\\\\Abhimanyu\\\\Downloads\\\\internshala assignment\\\\StopWords\\\\StopWords_DatesandNumbers.txt',\n",
       " 'C:\\\\Users\\\\Abhimanyu\\\\Downloads\\\\internshala assignment\\\\StopWords\\\\StopWords_Generic.txt',\n",
       " 'C:\\\\Users\\\\Abhimanyu\\\\Downloads\\\\internshala assignment\\\\StopWords\\\\StopWords_GenericLong.txt',\n",
       " 'C:\\\\Users\\\\Abhimanyu\\\\Downloads\\\\internshala assignment\\\\StopWords\\\\StopWords_Geographic.txt',\n",
       " 'C:\\\\Users\\\\Abhimanyu\\\\Downloads\\\\internshala assignment\\\\StopWords\\\\StopWords_Names.txt']"
      ]
     },
     "execution_count": 26,
     "metadata": {},
     "output_type": "execute_result"
    }
   ],
   "source": [
    "files"
   ]
  },
  {
   "cell_type": "code",
   "execution_count": 27,
   "id": "c9cae7a2",
   "metadata": {},
   "outputs": [],
   "source": [
    "l1=pd.read_csv(r'C:\\\\Users\\\\Abhimanyu\\\\Downloads\\\\internshala assignment\\\\StopWords\\\\StopWords_Auditor.txt',header=None)"
   ]
  },
  {
   "cell_type": "code",
   "execution_count": 28,
   "id": "6baa5ce9",
   "metadata": {},
   "outputs": [
    {
     "data": {
      "text/html": [
       "<div>\n",
       "<style scoped>\n",
       "    .dataframe tbody tr th:only-of-type {\n",
       "        vertical-align: middle;\n",
       "    }\n",
       "\n",
       "    .dataframe tbody tr th {\n",
       "        vertical-align: top;\n",
       "    }\n",
       "\n",
       "    .dataframe thead th {\n",
       "        text-align: right;\n",
       "    }\n",
       "</style>\n",
       "<table border=\"1\" class=\"dataframe\">\n",
       "  <thead>\n",
       "    <tr style=\"text-align: right;\">\n",
       "      <th></th>\n",
       "      <th>0</th>\n",
       "    </tr>\n",
       "  </thead>\n",
       "  <tbody>\n",
       "    <tr>\n",
       "      <th>0</th>\n",
       "      <td>ERNST</td>\n",
       "    </tr>\n",
       "    <tr>\n",
       "      <th>1</th>\n",
       "      <td>YOUNG</td>\n",
       "    </tr>\n",
       "    <tr>\n",
       "      <th>2</th>\n",
       "      <td>DELOITTE</td>\n",
       "    </tr>\n",
       "    <tr>\n",
       "      <th>3</th>\n",
       "      <td>TOUCHE</td>\n",
       "    </tr>\n",
       "    <tr>\n",
       "      <th>4</th>\n",
       "      <td>KPMG</td>\n",
       "    </tr>\n",
       "    <tr>\n",
       "      <th>5</th>\n",
       "      <td>PRICEWATERHOUSECOOPERS</td>\n",
       "    </tr>\n",
       "    <tr>\n",
       "      <th>6</th>\n",
       "      <td>PRICEWATERHOUSE</td>\n",
       "    </tr>\n",
       "    <tr>\n",
       "      <th>7</th>\n",
       "      <td>COOPERS</td>\n",
       "    </tr>\n",
       "  </tbody>\n",
       "</table>\n",
       "</div>"
      ],
      "text/plain": [
       "                        0\n",
       "0                   ERNST\n",
       "1                   YOUNG\n",
       "2                DELOITTE\n",
       "3                  TOUCHE\n",
       "4                    KPMG\n",
       "5  PRICEWATERHOUSECOOPERS\n",
       "6         PRICEWATERHOUSE\n",
       "7                 COOPERS"
      ]
     },
     "execution_count": 28,
     "metadata": {},
     "output_type": "execute_result"
    }
   ],
   "source": [
    "l1"
   ]
  },
  {
   "cell_type": "code",
   "execution_count": 29,
   "id": "35d8af68",
   "metadata": {},
   "outputs": [],
   "source": [
    "stop_words=pd.DataFrame()"
   ]
  },
  {
   "cell_type": "code",
   "execution_count": 30,
   "id": "fe8dbd95",
   "metadata": {},
   "outputs": [
    {
     "name": "stderr",
     "output_type": "stream",
     "text": [
      "C:\\Users\\Abhimanyu\\AppData\\Local\\Temp\\ipykernel_8588\\1228569729.py:4: FutureWarning: The frame.append method is deprecated and will be removed from pandas in a future version. Use pandas.concat instead.\n",
      "  stop_words=stop_words.append(d1)\n",
      "C:\\Users\\Abhimanyu\\AppData\\Local\\Temp\\ipykernel_8588\\1228569729.py:4: FutureWarning: The frame.append method is deprecated and will be removed from pandas in a future version. Use pandas.concat instead.\n",
      "  stop_words=stop_words.append(d1)\n",
      "C:\\Users\\Abhimanyu\\AppData\\Local\\Temp\\ipykernel_8588\\1228569729.py:4: FutureWarning: The frame.append method is deprecated and will be removed from pandas in a future version. Use pandas.concat instead.\n",
      "  stop_words=stop_words.append(d1)\n",
      "C:\\Users\\Abhimanyu\\AppData\\Local\\Temp\\ipykernel_8588\\1228569729.py:4: FutureWarning: The frame.append method is deprecated and will be removed from pandas in a future version. Use pandas.concat instead.\n",
      "  stop_words=stop_words.append(d1)\n",
      "C:\\Users\\Abhimanyu\\AppData\\Local\\Temp\\ipykernel_8588\\1228569729.py:4: FutureWarning: The frame.append method is deprecated and will be removed from pandas in a future version. Use pandas.concat instead.\n",
      "  stop_words=stop_words.append(d1)\n",
      "C:\\Users\\Abhimanyu\\AppData\\Local\\Temp\\ipykernel_8588\\1228569729.py:4: FutureWarning: The frame.append method is deprecated and will be removed from pandas in a future version. Use pandas.concat instead.\n",
      "  stop_words=stop_words.append(d1)\n"
     ]
    }
   ],
   "source": [
    "for i in files:\n",
    "    try:\n",
    "        d1=pd.read_csv(i,header=None,encoding=\"ISO-8859-1\")\n",
    "        stop_words=stop_words.append(d1)\n",
    "    except:\n",
    "        with open(i, encoding=\"utf8\", errors='ignore') as f:\n",
    "                       contents = f.read()\n",
    "        m2=contents.split( )"
   ]
  },
  {
   "cell_type": "code",
   "execution_count": 31,
   "id": "5f293ef7",
   "metadata": {},
   "outputs": [
    {
     "data": {
      "text/html": [
       "<div>\n",
       "<style scoped>\n",
       "    .dataframe tbody tr th:only-of-type {\n",
       "        vertical-align: middle;\n",
       "    }\n",
       "\n",
       "    .dataframe tbody tr th {\n",
       "        vertical-align: top;\n",
       "    }\n",
       "\n",
       "    .dataframe thead th {\n",
       "        text-align: right;\n",
       "    }\n",
       "</style>\n",
       "<table border=\"1\" class=\"dataframe\">\n",
       "  <thead>\n",
       "    <tr style=\"text-align: right;\">\n",
       "      <th></th>\n",
       "      <th>0</th>\n",
       "    </tr>\n",
       "  </thead>\n",
       "  <tbody>\n",
       "    <tr>\n",
       "      <th>0</th>\n",
       "      <td>ERNST</td>\n",
       "    </tr>\n",
       "    <tr>\n",
       "      <th>1</th>\n",
       "      <td>YOUNG</td>\n",
       "    </tr>\n",
       "    <tr>\n",
       "      <th>2</th>\n",
       "      <td>DELOITTE</td>\n",
       "    </tr>\n",
       "    <tr>\n",
       "      <th>3</th>\n",
       "      <td>TOUCHE</td>\n",
       "    </tr>\n",
       "    <tr>\n",
       "      <th>4</th>\n",
       "      <td>KPMG</td>\n",
       "    </tr>\n",
       "    <tr>\n",
       "      <th>...</th>\n",
       "      <td>...</td>\n",
       "    </tr>\n",
       "    <tr>\n",
       "      <th>13009</th>\n",
       "      <td>GUO</td>\n",
       "    </tr>\n",
       "    <tr>\n",
       "      <th>13010</th>\n",
       "      <td>LIN</td>\n",
       "    </tr>\n",
       "    <tr>\n",
       "      <th>13011</th>\n",
       "      <td>HE</td>\n",
       "    </tr>\n",
       "    <tr>\n",
       "      <th>13012</th>\n",
       "      <td>GAO</td>\n",
       "    </tr>\n",
       "    <tr>\n",
       "      <th>13013</th>\n",
       "      <td>LIANG</td>\n",
       "    </tr>\n",
       "  </tbody>\n",
       "</table>\n",
       "<p>14022 rows × 1 columns</p>\n",
       "</div>"
      ],
      "text/plain": [
       "              0\n",
       "0         ERNST\n",
       "1         YOUNG\n",
       "2      DELOITTE\n",
       "3        TOUCHE\n",
       "4          KPMG\n",
       "...         ...\n",
       "13009       GUO\n",
       "13010       LIN\n",
       "13011        HE\n",
       "13012       GAO\n",
       "13013     LIANG\n",
       "\n",
       "[14022 rows x 1 columns]"
      ]
     },
     "execution_count": 31,
     "metadata": {},
     "output_type": "execute_result"
    }
   ],
   "source": [
    "stop_words"
   ]
  },
  {
   "cell_type": "code",
   "execution_count": 32,
   "id": "ef4da4d2",
   "metadata": {},
   "outputs": [
    {
     "data": {
      "text/plain": [
       "Int64Index([0], dtype='int64')"
      ]
     },
     "execution_count": 32,
     "metadata": {},
     "output_type": "execute_result"
    }
   ],
   "source": [
    "stop_words.columns"
   ]
  },
  {
   "cell_type": "code",
   "execution_count": 33,
   "id": "3a136f75",
   "metadata": {},
   "outputs": [],
   "source": [
    "stop_words[1]=stop_words[0].apply(lambda x:str(x).lower())"
   ]
  },
  {
   "cell_type": "code",
   "execution_count": 34,
   "id": "92a42f3e",
   "metadata": {},
   "outputs": [],
   "source": [
    "m1=stop_words[1].unique()"
   ]
  },
  {
   "cell_type": "code",
   "execution_count": 35,
   "id": "f1e39603",
   "metadata": {},
   "outputs": [],
   "source": [
    "m3=[i.lower() for i in m2]"
   ]
  },
  {
   "cell_type": "code",
   "execution_count": 36,
   "id": "c187e795",
   "metadata": {},
   "outputs": [],
   "source": [
    "stw=list(m1)+m3"
   ]
  },
  {
   "cell_type": "code",
   "execution_count": 38,
   "id": "87311003",
   "metadata": {},
   "outputs": [],
   "source": [
    "remove=['|']\n",
    "stop_words_final=[i for i in stw if i not in remove]"
   ]
  },
  {
   "cell_type": "code",
   "execution_count": 39,
   "id": "1608ef03",
   "metadata": {},
   "outputs": [
    {
     "name": "stdout",
     "output_type": "stream",
     "text": [
      "length of before remove stop_words list 12961\n",
      "length of final stop_words list 12876\n"
     ]
    }
   ],
   "source": [
    "print('length of before remove stop_words list',len(stw))\n",
    "print('length of final stop_words list',len(stop_words_final))"
   ]
  },
  {
   "cell_type": "code",
   "execution_count": 98,
   "id": "31c4d0ee",
   "metadata": {},
   "outputs": [],
   "source": [
    "d1=pd.read_excel(r'Test1.xlsx')"
   ]
  },
  {
   "cell_type": "code",
   "execution_count": 99,
   "id": "eb62c45e",
   "metadata": {},
   "outputs": [],
   "source": [
    "d1['clean_data']=d1['Text'].apply(lambda x:str(x).lower())"
   ]
  },
  {
   "cell_type": "markdown",
   "id": "ea25e460",
   "metadata": {},
   "source": [
    "# data cleaning"
   ]
  },
  {
   "cell_type": "code",
   "execution_count": 100,
   "id": "586d9035",
   "metadata": {},
   "outputs": [],
   "source": [
    "from nltk.tokenize import word_tokenize\n",
    "from collections import Counter\n",
    "import nltk"
   ]
  },
  {
   "cell_type": "code",
   "execution_count": 101,
   "id": "e4dfb908",
   "metadata": {},
   "outputs": [],
   "source": [
    "def remove_stopwords(text):\n",
    "    text_tokens =  word_tokenize(text)\n",
    "    remove_stop = [str(j) for j in text_tokens if j not in stop_words_final]\n",
    "    refine_text = ' '.join(remove_stop)\n",
    "    return refine_text\n",
    "\n",
    "d1['clean_data'] =  d1['clean_data'].apply(remove_stopwords)    "
   ]
  },
  {
   "cell_type": "code",
   "execution_count": 102,
   "id": "cd113b10",
   "metadata": {},
   "outputs": [],
   "source": [
    "d1=d1.drop('Unnamed: 0',axis=1)"
   ]
  },
  {
   "cell_type": "code",
   "execution_count": 103,
   "id": "c0a50141",
   "metadata": {},
   "outputs": [],
   "source": [
    "def remove_special_characters(text):\n",
    "    return re.sub('[^ a-zA-Z0-9-.]', '', text)\n",
    "    \n",
    "d1['clean_data'] =  d1['clean_data'].apply(remove_special_characters)"
   ]
  },
  {
   "cell_type": "code",
   "execution_count": 104,
   "id": "0455c466",
   "metadata": {},
   "outputs": [
    {
     "data": {
      "text/html": [
       "<div>\n",
       "<style scoped>\n",
       "    .dataframe tbody tr th:only-of-type {\n",
       "        vertical-align: middle;\n",
       "    }\n",
       "\n",
       "    .dataframe tbody tr th {\n",
       "        vertical-align: top;\n",
       "    }\n",
       "\n",
       "    .dataframe thead th {\n",
       "        text-align: right;\n",
       "    }\n",
       "</style>\n",
       "<table border=\"1\" class=\"dataframe\">\n",
       "  <thead>\n",
       "    <tr style=\"text-align: right;\">\n",
       "      <th></th>\n",
       "      <th>Link_url</th>\n",
       "      <th>Header</th>\n",
       "      <th>Text</th>\n",
       "      <th>clean_data</th>\n",
       "    </tr>\n",
       "  </thead>\n",
       "  <tbody>\n",
       "    <tr>\n",
       "      <th>0</th>\n",
       "      <td>https://insights.blackcoffer.com/ai-in-healthc...</td>\n",
       "      <td>AI in healthcare to Improve Patient Outcomes</td>\n",
       "      <td>Introduction  “If anything kills over 10 mill...</td>\n",
       "      <td>introduction  kills 10 people decades  highly ...</td>\n",
       "    </tr>\n",
       "    <tr>\n",
       "      <th>1</th>\n",
       "      <td>https://insights.blackcoffer.com/what-if-the-c...</td>\n",
       "      <td>What if the Creation is Taking Over the Creator?</td>\n",
       "      <td>Human minds, a fascination in itself carrying...</td>\n",
       "      <td>human minds  fascination carrying potential ti...</td>\n",
       "    </tr>\n",
       "    <tr>\n",
       "      <th>2</th>\n",
       "      <td>https://insights.blackcoffer.com/what-jobs-wil...</td>\n",
       "      <td>What Jobs Will Robots Take From Humans in The ...</td>\n",
       "      <td>Introduction  AI is rapidly evolving in the e...</td>\n",
       "      <td>introduction rapidly evolving employment secto...</td>\n",
       "    </tr>\n",
       "    <tr>\n",
       "      <th>3</th>\n",
       "      <td>https://insights.blackcoffer.com/will-machine-...</td>\n",
       "      <td>Will Machine Replace The Human in the Future o...</td>\n",
       "      <td>“Anything that could give rise to smarter-tha...</td>\n",
       "      <td>give rise smarter-than-human intelligence  fo...</td>\n",
       "    </tr>\n",
       "    <tr>\n",
       "      <th>4</th>\n",
       "      <td>https://insights.blackcoffer.com/will-ai-repla...</td>\n",
       "      <td>Will AI Replace Us or Work With Us?</td>\n",
       "      <td>“Machine intelligence is the last invention t...</td>\n",
       "      <td>machine intelligence invention humanity make ...</td>\n",
       "    </tr>\n",
       "  </tbody>\n",
       "</table>\n",
       "</div>"
      ],
      "text/plain": [
       "                                            Link_url  \\\n",
       "0  https://insights.blackcoffer.com/ai-in-healthc...   \n",
       "1  https://insights.blackcoffer.com/what-if-the-c...   \n",
       "2  https://insights.blackcoffer.com/what-jobs-wil...   \n",
       "3  https://insights.blackcoffer.com/will-machine-...   \n",
       "4  https://insights.blackcoffer.com/will-ai-repla...   \n",
       "\n",
       "                                              Header  \\\n",
       "0       AI in healthcare to Improve Patient Outcomes   \n",
       "1   What if the Creation is Taking Over the Creator?   \n",
       "2  What Jobs Will Robots Take From Humans in The ...   \n",
       "3  Will Machine Replace The Human in the Future o...   \n",
       "4                Will AI Replace Us or Work With Us?   \n",
       "\n",
       "                                                Text  \\\n",
       "0   Introduction  “If anything kills over 10 mill...   \n",
       "1   Human minds, a fascination in itself carrying...   \n",
       "2   Introduction  AI is rapidly evolving in the e...   \n",
       "3   “Anything that could give rise to smarter-tha...   \n",
       "4   “Machine intelligence is the last invention t...   \n",
       "\n",
       "                                          clean_data  \n",
       "0  introduction  kills 10 people decades  highly ...  \n",
       "1  human minds  fascination carrying potential ti...  \n",
       "2  introduction rapidly evolving employment secto...  \n",
       "3   give rise smarter-than-human intelligence  fo...  \n",
       "4   machine intelligence invention humanity make ...  "
      ]
     },
     "execution_count": 104,
     "metadata": {},
     "output_type": "execute_result"
    }
   ],
   "source": [
    "d1.head()"
   ]
  },
  {
   "cell_type": "code",
   "execution_count": 105,
   "id": "a03fbe4c",
   "metadata": {},
   "outputs": [
    {
     "name": "stdout",
     "output_type": "stream",
     "text": [
      "There are total single chracter words remaing in the data:  5378\n"
     ]
    }
   ],
   "source": [
    "# For words with len 1\n",
    "single_char = []\n",
    "count= 0\n",
    "for i in d1['clean_data']:\n",
    "    for j in i.split():\n",
    "        if len(j)==1 and j.isdigit()==False:\n",
    "            count+=1\n",
    "            single_char.append(j)\n",
    "\n",
    "print('There are total single chracter words remaing in the data: ',count )"
   ]
  },
  {
   "cell_type": "code",
   "execution_count": 106,
   "id": "2d1afef2",
   "metadata": {},
   "outputs": [
    {
     "data": {
      "text/plain": [
       "Counter({'.': 5348, 's': 3, '-': 26, 'v': 1})"
      ]
     },
     "execution_count": 106,
     "metadata": {},
     "output_type": "execute_result"
    }
   ],
   "source": [
    "Counter(single_char)"
   ]
  },
  {
   "cell_type": "code",
   "execution_count": 57,
   "id": "6aa2a296",
   "metadata": {},
   "outputs": [],
   "source": [
    "# def remove_single_chars(text):\n",
    "#     clean = []\n",
    "#     for i in text.split():\n",
    "#         if len(i)==1 and i.isalpha()==True:\n",
    "#             pass\n",
    "#         else:\n",
    "#             clean.append(i)\n",
    "#     return ' '.join(clean)\n",
    "\n",
    "    \n",
    "# d1['clean_data'] =  d1['clean_data'].apply(remove_single_chars)"
   ]
  },
  {
   "cell_type": "code",
   "execution_count": 107,
   "id": "dc7e012b",
   "metadata": {},
   "outputs": [],
   "source": [
    "postive_path=r'C:\\Users\\Abhimanyu\\Downloads\\internshala assignment\\MasterDictionary\\positive-words.txt'\n",
    "negative_path=r'C:\\Users\\Abhimanyu\\Downloads\\internshala assignment\\MasterDictionary\\negative-words.txt'"
   ]
  },
  {
   "cell_type": "code",
   "execution_count": 108,
   "id": "a94cb669",
   "metadata": {},
   "outputs": [],
   "source": [
    "with open(postive_path, encoding=\"utf8\", errors='ignore') as f:\n",
    "    pos = f.read()"
   ]
  },
  {
   "cell_type": "code",
   "execution_count": 109,
   "id": "f9fab0d3",
   "metadata": {},
   "outputs": [],
   "source": [
    "pos1=pos.split('\\n')"
   ]
  },
  {
   "cell_type": "code",
   "execution_count": 110,
   "id": "d90099ed",
   "metadata": {},
   "outputs": [],
   "source": [
    "with open(negative_path, encoding=\"utf8\", errors='ignore') as f:\n",
    "    neg = f.read()"
   ]
  },
  {
   "cell_type": "code",
   "execution_count": 111,
   "id": "9c5d6021",
   "metadata": {},
   "outputs": [],
   "source": [
    "neg1=neg.split('\\n')"
   ]
  },
  {
   "cell_type": "code",
   "execution_count": 112,
   "id": "b7aaf827",
   "metadata": {},
   "outputs": [],
   "source": [
    "def postive_count(i):\n",
    "    p1=i.split()\n",
    "    x2= [value for value in p1 if value in pos1]\n",
    "    postive_ratio=(len(set(x2))/len(set(p1)))\n",
    "    return postive_ratio\n",
    "def negative_count(i):\n",
    "    p1=i.split()\n",
    "    x2= [value for value in p1 if value in neg1]\n",
    "    negative_ratio=(len(set(x2))/len(set(p1)))\n",
    "    return negative_ratio"
   ]
  },
  {
   "cell_type": "markdown",
   "id": "b9e2bb5a",
   "metadata": {},
   "source": [
    "1.POSTIVE SCORE\n",
    "2.\tNEGATIVE SCORE\n",
    "3.\tPOLARITY SCORE\n",
    "4.  Subjectivity Score"
   ]
  },
  {
   "cell_type": "code",
   "execution_count": 117,
   "id": "80d39c0e",
   "metadata": {},
   "outputs": [],
   "source": [
    "d1['Postive score']=d1['clean_data'].apply(lambda x:postive_count(x))\n",
    "d1['Negative score']=d1['clean_data'].apply(lambda x:negative_count(x))\n",
    "d1['Polarity_Score']=(d1['Postive score']-d1['Negative score'])/(d1['Postive score']+d1['Negative score'])"
   ]
  },
  {
   "cell_type": "code",
   "execution_count": 118,
   "id": "33fa20ec",
   "metadata": {},
   "outputs": [],
   "source": [
    "# d1.drop('Plority_Score',axis=1)"
   ]
  },
  {
   "cell_type": "code",
   "execution_count": 119,
   "id": "c6104877",
   "metadata": {},
   "outputs": [],
   "source": [
    "def Length_of_words(i):\n",
    "    p1=i.split()\n",
    "    length_of_words=len(p1)\n",
    "    return length_of_words"
   ]
  },
  {
   "cell_type": "code",
   "execution_count": 120,
   "id": "d0291e5e",
   "metadata": {},
   "outputs": [],
   "source": [
    "d1['Length_of_words']=d1['clean_data'].apply(lambda x:Length_of_words(x))"
   ]
  },
  {
   "cell_type": "code",
   "execution_count": 121,
   "id": "7fc22dea",
   "metadata": {},
   "outputs": [],
   "source": [
    "d1['Subjectivity Score']=(d1['Postive score']+d1['Negative score'])/(d1['Length_of_words']+0.000001)"
   ]
  },
  {
   "cell_type": "code",
   "execution_count": 122,
   "id": "c520e22f",
   "metadata": {},
   "outputs": [
    {
     "data": {
      "text/html": [
       "<div>\n",
       "<style scoped>\n",
       "    .dataframe tbody tr th:only-of-type {\n",
       "        vertical-align: middle;\n",
       "    }\n",
       "\n",
       "    .dataframe tbody tr th {\n",
       "        vertical-align: top;\n",
       "    }\n",
       "\n",
       "    .dataframe thead th {\n",
       "        text-align: right;\n",
       "    }\n",
       "</style>\n",
       "<table border=\"1\" class=\"dataframe\">\n",
       "  <thead>\n",
       "    <tr style=\"text-align: right;\">\n",
       "      <th></th>\n",
       "      <th>Link_url</th>\n",
       "      <th>Header</th>\n",
       "      <th>Text</th>\n",
       "      <th>clean_data</th>\n",
       "      <th>Length_of_words</th>\n",
       "      <th>Postive score</th>\n",
       "      <th>Negative score</th>\n",
       "      <th>Polarity_Score</th>\n",
       "      <th>Subjectivity Score</th>\n",
       "    </tr>\n",
       "  </thead>\n",
       "  <tbody>\n",
       "    <tr>\n",
       "      <th>0</th>\n",
       "      <td>https://insights.blackcoffer.com/ai-in-healthc...</td>\n",
       "      <td>AI in healthcare to Improve Patient Outcomes</td>\n",
       "      <td>Introduction  “If anything kills over 10 mill...</td>\n",
       "      <td>introduction  kills 10 people decades  highly ...</td>\n",
       "      <td>1033</td>\n",
       "      <td>0.063863</td>\n",
       "      <td>0.037383</td>\n",
       "      <td>0.261538</td>\n",
       "      <td>0.000098</td>\n",
       "    </tr>\n",
       "    <tr>\n",
       "      <th>1</th>\n",
       "      <td>https://insights.blackcoffer.com/what-if-the-c...</td>\n",
       "      <td>What if the Creation is Taking Over the Creator?</td>\n",
       "      <td>Human minds, a fascination in itself carrying...</td>\n",
       "      <td>human minds  fascination carrying potential ti...</td>\n",
       "      <td>626</td>\n",
       "      <td>0.099462</td>\n",
       "      <td>0.077957</td>\n",
       "      <td>0.121212</td>\n",
       "      <td>0.000283</td>\n",
       "    </tr>\n",
       "    <tr>\n",
       "      <th>2</th>\n",
       "      <td>https://insights.blackcoffer.com/what-jobs-wil...</td>\n",
       "      <td>What Jobs Will Robots Take From Humans in The ...</td>\n",
       "      <td>Introduction  AI is rapidly evolving in the e...</td>\n",
       "      <td>introduction rapidly evolving employment secto...</td>\n",
       "      <td>899</td>\n",
       "      <td>0.090385</td>\n",
       "      <td>0.048077</td>\n",
       "      <td>0.305556</td>\n",
       "      <td>0.000154</td>\n",
       "    </tr>\n",
       "    <tr>\n",
       "      <th>3</th>\n",
       "      <td>https://insights.blackcoffer.com/will-machine-...</td>\n",
       "      <td>Will Machine Replace The Human in the Future o...</td>\n",
       "      <td>“Anything that could give rise to smarter-tha...</td>\n",
       "      <td>give rise smarter-than-human intelligence  fo...</td>\n",
       "      <td>714</td>\n",
       "      <td>0.080882</td>\n",
       "      <td>0.053922</td>\n",
       "      <td>0.200000</td>\n",
       "      <td>0.000189</td>\n",
       "    </tr>\n",
       "    <tr>\n",
       "      <th>4</th>\n",
       "      <td>https://insights.blackcoffer.com/will-ai-repla...</td>\n",
       "      <td>Will AI Replace Us or Work With Us?</td>\n",
       "      <td>“Machine intelligence is the last invention t...</td>\n",
       "      <td>machine intelligence invention humanity make ...</td>\n",
       "      <td>846</td>\n",
       "      <td>0.057728</td>\n",
       "      <td>0.042831</td>\n",
       "      <td>0.148148</td>\n",
       "      <td>0.000119</td>\n",
       "    </tr>\n",
       "  </tbody>\n",
       "</table>\n",
       "</div>"
      ],
      "text/plain": [
       "                                            Link_url  \\\n",
       "0  https://insights.blackcoffer.com/ai-in-healthc...   \n",
       "1  https://insights.blackcoffer.com/what-if-the-c...   \n",
       "2  https://insights.blackcoffer.com/what-jobs-wil...   \n",
       "3  https://insights.blackcoffer.com/will-machine-...   \n",
       "4  https://insights.blackcoffer.com/will-ai-repla...   \n",
       "\n",
       "                                              Header  \\\n",
       "0       AI in healthcare to Improve Patient Outcomes   \n",
       "1   What if the Creation is Taking Over the Creator?   \n",
       "2  What Jobs Will Robots Take From Humans in The ...   \n",
       "3  Will Machine Replace The Human in the Future o...   \n",
       "4                Will AI Replace Us or Work With Us?   \n",
       "\n",
       "                                                Text  \\\n",
       "0   Introduction  “If anything kills over 10 mill...   \n",
       "1   Human minds, a fascination in itself carrying...   \n",
       "2   Introduction  AI is rapidly evolving in the e...   \n",
       "3   “Anything that could give rise to smarter-tha...   \n",
       "4   “Machine intelligence is the last invention t...   \n",
       "\n",
       "                                          clean_data  Length_of_words  \\\n",
       "0  introduction  kills 10 people decades  highly ...             1033   \n",
       "1  human minds  fascination carrying potential ti...              626   \n",
       "2  introduction rapidly evolving employment secto...              899   \n",
       "3   give rise smarter-than-human intelligence  fo...              714   \n",
       "4   machine intelligence invention humanity make ...              846   \n",
       "\n",
       "   Postive score  Negative score  Polarity_Score  Subjectivity Score  \n",
       "0       0.063863        0.037383        0.261538            0.000098  \n",
       "1       0.099462        0.077957        0.121212            0.000283  \n",
       "2       0.090385        0.048077        0.305556            0.000154  \n",
       "3       0.080882        0.053922        0.200000            0.000189  \n",
       "4       0.057728        0.042831        0.148148            0.000119  "
      ]
     },
     "execution_count": 122,
     "metadata": {},
     "output_type": "execute_result"
    }
   ],
   "source": [
    "d1.head()"
   ]
  },
  {
   "cell_type": "code",
   "execution_count": 123,
   "id": "0a5f387b",
   "metadata": {},
   "outputs": [],
   "source": [
    "def no_of_sentence(i):\n",
    "    sentences=nltk.sent_tokenize(i)\n",
    "    return len(sentences)"
   ]
  },
  {
   "cell_type": "code",
   "execution_count": 124,
   "id": "8bfdde0f",
   "metadata": {},
   "outputs": [],
   "source": [
    "d1['no_of_sentence']=d1['clean_data'].apply(lambda x:no_of_sentence(x))"
   ]
  },
  {
   "cell_type": "code",
   "execution_count": 125,
   "id": "a32d0d0b",
   "metadata": {},
   "outputs": [],
   "source": [
    "d1['AVG SENTENCE LENGTH']=d1['Length_of_words']/d1['no_of_sentence']"
   ]
  },
  {
   "cell_type": "code",
   "execution_count": 126,
   "id": "dcd07ad0",
   "metadata": {},
   "outputs": [
    {
     "data": {
      "text/html": [
       "<div>\n",
       "<style scoped>\n",
       "    .dataframe tbody tr th:only-of-type {\n",
       "        vertical-align: middle;\n",
       "    }\n",
       "\n",
       "    .dataframe tbody tr th {\n",
       "        vertical-align: top;\n",
       "    }\n",
       "\n",
       "    .dataframe thead th {\n",
       "        text-align: right;\n",
       "    }\n",
       "</style>\n",
       "<table border=\"1\" class=\"dataframe\">\n",
       "  <thead>\n",
       "    <tr style=\"text-align: right;\">\n",
       "      <th></th>\n",
       "      <th>Link_url</th>\n",
       "      <th>Header</th>\n",
       "      <th>Text</th>\n",
       "      <th>clean_data</th>\n",
       "      <th>Length_of_words</th>\n",
       "      <th>Postive score</th>\n",
       "      <th>Negative score</th>\n",
       "      <th>Polarity_Score</th>\n",
       "      <th>Subjectivity Score</th>\n",
       "      <th>no_of_sentence</th>\n",
       "      <th>AVG SENTENCE LENGTH</th>\n",
       "    </tr>\n",
       "  </thead>\n",
       "  <tbody>\n",
       "    <tr>\n",
       "      <th>0</th>\n",
       "      <td>https://insights.blackcoffer.com/ai-in-healthc...</td>\n",
       "      <td>AI in healthcare to Improve Patient Outcomes</td>\n",
       "      <td>Introduction  “If anything kills over 10 mill...</td>\n",
       "      <td>introduction  kills 10 people decades  highly ...</td>\n",
       "      <td>1033</td>\n",
       "      <td>0.063863</td>\n",
       "      <td>0.037383</td>\n",
       "      <td>0.261538</td>\n",
       "      <td>0.000098</td>\n",
       "      <td>77</td>\n",
       "      <td>13.415584</td>\n",
       "    </tr>\n",
       "    <tr>\n",
       "      <th>1</th>\n",
       "      <td>https://insights.blackcoffer.com/what-if-the-c...</td>\n",
       "      <td>What if the Creation is Taking Over the Creator?</td>\n",
       "      <td>Human minds, a fascination in itself carrying...</td>\n",
       "      <td>human minds  fascination carrying potential ti...</td>\n",
       "      <td>626</td>\n",
       "      <td>0.099462</td>\n",
       "      <td>0.077957</td>\n",
       "      <td>0.121212</td>\n",
       "      <td>0.000283</td>\n",
       "      <td>68</td>\n",
       "      <td>9.205882</td>\n",
       "    </tr>\n",
       "    <tr>\n",
       "      <th>2</th>\n",
       "      <td>https://insights.blackcoffer.com/what-jobs-wil...</td>\n",
       "      <td>What Jobs Will Robots Take From Humans in The ...</td>\n",
       "      <td>Introduction  AI is rapidly evolving in the e...</td>\n",
       "      <td>introduction rapidly evolving employment secto...</td>\n",
       "      <td>899</td>\n",
       "      <td>0.090385</td>\n",
       "      <td>0.048077</td>\n",
       "      <td>0.305556</td>\n",
       "      <td>0.000154</td>\n",
       "      <td>85</td>\n",
       "      <td>10.576471</td>\n",
       "    </tr>\n",
       "    <tr>\n",
       "      <th>3</th>\n",
       "      <td>https://insights.blackcoffer.com/will-machine-...</td>\n",
       "      <td>Will Machine Replace The Human in the Future o...</td>\n",
       "      <td>“Anything that could give rise to smarter-tha...</td>\n",
       "      <td>give rise smarter-than-human intelligence  fo...</td>\n",
       "      <td>714</td>\n",
       "      <td>0.080882</td>\n",
       "      <td>0.053922</td>\n",
       "      <td>0.200000</td>\n",
       "      <td>0.000189</td>\n",
       "      <td>83</td>\n",
       "      <td>8.602410</td>\n",
       "    </tr>\n",
       "    <tr>\n",
       "      <th>4</th>\n",
       "      <td>https://insights.blackcoffer.com/will-ai-repla...</td>\n",
       "      <td>Will AI Replace Us or Work With Us?</td>\n",
       "      <td>“Machine intelligence is the last invention t...</td>\n",
       "      <td>machine intelligence invention humanity make ...</td>\n",
       "      <td>846</td>\n",
       "      <td>0.057728</td>\n",
       "      <td>0.042831</td>\n",
       "      <td>0.148148</td>\n",
       "      <td>0.000119</td>\n",
       "      <td>77</td>\n",
       "      <td>10.987013</td>\n",
       "    </tr>\n",
       "  </tbody>\n",
       "</table>\n",
       "</div>"
      ],
      "text/plain": [
       "                                            Link_url  \\\n",
       "0  https://insights.blackcoffer.com/ai-in-healthc...   \n",
       "1  https://insights.blackcoffer.com/what-if-the-c...   \n",
       "2  https://insights.blackcoffer.com/what-jobs-wil...   \n",
       "3  https://insights.blackcoffer.com/will-machine-...   \n",
       "4  https://insights.blackcoffer.com/will-ai-repla...   \n",
       "\n",
       "                                              Header  \\\n",
       "0       AI in healthcare to Improve Patient Outcomes   \n",
       "1   What if the Creation is Taking Over the Creator?   \n",
       "2  What Jobs Will Robots Take From Humans in The ...   \n",
       "3  Will Machine Replace The Human in the Future o...   \n",
       "4                Will AI Replace Us or Work With Us?   \n",
       "\n",
       "                                                Text  \\\n",
       "0   Introduction  “If anything kills over 10 mill...   \n",
       "1   Human minds, a fascination in itself carrying...   \n",
       "2   Introduction  AI is rapidly evolving in the e...   \n",
       "3   “Anything that could give rise to smarter-tha...   \n",
       "4   “Machine intelligence is the last invention t...   \n",
       "\n",
       "                                          clean_data  Length_of_words  \\\n",
       "0  introduction  kills 10 people decades  highly ...             1033   \n",
       "1  human minds  fascination carrying potential ti...              626   \n",
       "2  introduction rapidly evolving employment secto...              899   \n",
       "3   give rise smarter-than-human intelligence  fo...              714   \n",
       "4   machine intelligence invention humanity make ...              846   \n",
       "\n",
       "   Postive score  Negative score  Polarity_Score  Subjectivity Score  \\\n",
       "0       0.063863        0.037383        0.261538            0.000098   \n",
       "1       0.099462        0.077957        0.121212            0.000283   \n",
       "2       0.090385        0.048077        0.305556            0.000154   \n",
       "3       0.080882        0.053922        0.200000            0.000189   \n",
       "4       0.057728        0.042831        0.148148            0.000119   \n",
       "\n",
       "   no_of_sentence  AVG SENTENCE LENGTH  \n",
       "0              77            13.415584  \n",
       "1              68             9.205882  \n",
       "2              85            10.576471  \n",
       "3              83             8.602410  \n",
       "4              77            10.987013  "
      ]
     },
     "execution_count": 126,
     "metadata": {},
     "output_type": "execute_result"
    }
   ],
   "source": [
    "d1.head()"
   ]
  },
  {
   "cell_type": "code",
   "execution_count": 130,
   "id": "1e349592",
   "metadata": {},
   "outputs": [],
   "source": [
    "# 8\tAverage Number of Words Per Sentence\n",
    "d1['Average Number of Words Per Sentence']=d1['Length_of_words']/d1['no_of_sentence']"
   ]
  },
  {
   "cell_type": "code",
   "execution_count": 132,
   "id": "0b895cff",
   "metadata": {},
   "outputs": [],
   "source": [
    "# word count\n",
    "d1['Word Count']=d1['clean_data'].apply(lambda x:Length_of_words(x))"
   ]
  },
  {
   "cell_type": "markdown",
   "id": "4ee4aabc",
   "metadata": {},
   "source": [
    "# 12.\tPERSONAL PRONOUNS"
   ]
  },
  {
   "cell_type": "code",
   "execution_count": 136,
   "id": "9df3753b",
   "metadata": {},
   "outputs": [],
   "source": [
    "def Personal_Pronouns(i):\n",
    "    pronounRegex = re.compile(r'I|we|my|ours|us',re.I)\n",
    "    pronouns = pronounRegex.findall(i)\n",
    "    return len(pronouns)"
   ]
  },
  {
   "cell_type": "code",
   "execution_count": 137,
   "id": "b46e1607",
   "metadata": {},
   "outputs": [],
   "source": [
    "d1['Personal Pronouns']=d1['clean_data'].apply(lambda x:Personal_Pronouns(x))"
   ]
  },
  {
   "cell_type": "code",
   "execution_count": 138,
   "id": "44c62f9a",
   "metadata": {},
   "outputs": [
    {
     "data": {
      "text/html": [
       "<div>\n",
       "<style scoped>\n",
       "    .dataframe tbody tr th:only-of-type {\n",
       "        vertical-align: middle;\n",
       "    }\n",
       "\n",
       "    .dataframe tbody tr th {\n",
       "        vertical-align: top;\n",
       "    }\n",
       "\n",
       "    .dataframe thead th {\n",
       "        text-align: right;\n",
       "    }\n",
       "</style>\n",
       "<table border=\"1\" class=\"dataframe\">\n",
       "  <thead>\n",
       "    <tr style=\"text-align: right;\">\n",
       "      <th></th>\n",
       "      <th>Link_url</th>\n",
       "      <th>Header</th>\n",
       "      <th>Text</th>\n",
       "      <th>clean_data</th>\n",
       "      <th>Length_of_words</th>\n",
       "      <th>Postive score</th>\n",
       "      <th>Negative score</th>\n",
       "      <th>Polarity_Score</th>\n",
       "      <th>Subjectivity Score</th>\n",
       "      <th>no_of_sentence</th>\n",
       "      <th>AVG SENTENCE LENGTH</th>\n",
       "      <th>Average Number of Words Per Sentence</th>\n",
       "      <th>Word Count</th>\n",
       "      <th>Personal Pronouns</th>\n",
       "    </tr>\n",
       "  </thead>\n",
       "  <tbody>\n",
       "    <tr>\n",
       "      <th>0</th>\n",
       "      <td>https://insights.blackcoffer.com/ai-in-healthc...</td>\n",
       "      <td>AI in healthcare to Improve Patient Outcomes</td>\n",
       "      <td>Introduction  “If anything kills over 10 mill...</td>\n",
       "      <td>introduction  kills 10 people decades  highly ...</td>\n",
       "      <td>1033</td>\n",
       "      <td>0.063863</td>\n",
       "      <td>0.037383</td>\n",
       "      <td>0.261538</td>\n",
       "      <td>0.000098</td>\n",
       "      <td>77</td>\n",
       "      <td>13.415584</td>\n",
       "      <td>13.415584</td>\n",
       "      <td>1033</td>\n",
       "      <td>695</td>\n",
       "    </tr>\n",
       "    <tr>\n",
       "      <th>1</th>\n",
       "      <td>https://insights.blackcoffer.com/what-if-the-c...</td>\n",
       "      <td>What if the Creation is Taking Over the Creator?</td>\n",
       "      <td>Human minds, a fascination in itself carrying...</td>\n",
       "      <td>human minds  fascination carrying potential ti...</td>\n",
       "      <td>626</td>\n",
       "      <td>0.099462</td>\n",
       "      <td>0.077957</td>\n",
       "      <td>0.121212</td>\n",
       "      <td>0.000283</td>\n",
       "      <td>68</td>\n",
       "      <td>9.205882</td>\n",
       "      <td>9.205882</td>\n",
       "      <td>626</td>\n",
       "      <td>378</td>\n",
       "    </tr>\n",
       "    <tr>\n",
       "      <th>2</th>\n",
       "      <td>https://insights.blackcoffer.com/what-jobs-wil...</td>\n",
       "      <td>What Jobs Will Robots Take From Humans in The ...</td>\n",
       "      <td>Introduction  AI is rapidly evolving in the e...</td>\n",
       "      <td>introduction rapidly evolving employment secto...</td>\n",
       "      <td>899</td>\n",
       "      <td>0.090385</td>\n",
       "      <td>0.048077</td>\n",
       "      <td>0.305556</td>\n",
       "      <td>0.000154</td>\n",
       "      <td>85</td>\n",
       "      <td>10.576471</td>\n",
       "      <td>10.576471</td>\n",
       "      <td>899</td>\n",
       "      <td>636</td>\n",
       "    </tr>\n",
       "    <tr>\n",
       "      <th>3</th>\n",
       "      <td>https://insights.blackcoffer.com/will-machine-...</td>\n",
       "      <td>Will Machine Replace The Human in the Future o...</td>\n",
       "      <td>“Anything that could give rise to smarter-tha...</td>\n",
       "      <td>give rise smarter-than-human intelligence  fo...</td>\n",
       "      <td>714</td>\n",
       "      <td>0.080882</td>\n",
       "      <td>0.053922</td>\n",
       "      <td>0.200000</td>\n",
       "      <td>0.000189</td>\n",
       "      <td>83</td>\n",
       "      <td>8.602410</td>\n",
       "      <td>8.602410</td>\n",
       "      <td>714</td>\n",
       "      <td>425</td>\n",
       "    </tr>\n",
       "    <tr>\n",
       "      <th>4</th>\n",
       "      <td>https://insights.blackcoffer.com/will-ai-repla...</td>\n",
       "      <td>Will AI Replace Us or Work With Us?</td>\n",
       "      <td>“Machine intelligence is the last invention t...</td>\n",
       "      <td>machine intelligence invention humanity make ...</td>\n",
       "      <td>846</td>\n",
       "      <td>0.057728</td>\n",
       "      <td>0.042831</td>\n",
       "      <td>0.148148</td>\n",
       "      <td>0.000119</td>\n",
       "      <td>77</td>\n",
       "      <td>10.987013</td>\n",
       "      <td>10.987013</td>\n",
       "      <td>846</td>\n",
       "      <td>509</td>\n",
       "    </tr>\n",
       "  </tbody>\n",
       "</table>\n",
       "</div>"
      ],
      "text/plain": [
       "                                            Link_url  \\\n",
       "0  https://insights.blackcoffer.com/ai-in-healthc...   \n",
       "1  https://insights.blackcoffer.com/what-if-the-c...   \n",
       "2  https://insights.blackcoffer.com/what-jobs-wil...   \n",
       "3  https://insights.blackcoffer.com/will-machine-...   \n",
       "4  https://insights.blackcoffer.com/will-ai-repla...   \n",
       "\n",
       "                                              Header  \\\n",
       "0       AI in healthcare to Improve Patient Outcomes   \n",
       "1   What if the Creation is Taking Over the Creator?   \n",
       "2  What Jobs Will Robots Take From Humans in The ...   \n",
       "3  Will Machine Replace The Human in the Future o...   \n",
       "4                Will AI Replace Us or Work With Us?   \n",
       "\n",
       "                                                Text  \\\n",
       "0   Introduction  “If anything kills over 10 mill...   \n",
       "1   Human minds, a fascination in itself carrying...   \n",
       "2   Introduction  AI is rapidly evolving in the e...   \n",
       "3   “Anything that could give rise to smarter-tha...   \n",
       "4   “Machine intelligence is the last invention t...   \n",
       "\n",
       "                                          clean_data  Length_of_words  \\\n",
       "0  introduction  kills 10 people decades  highly ...             1033   \n",
       "1  human minds  fascination carrying potential ti...              626   \n",
       "2  introduction rapidly evolving employment secto...              899   \n",
       "3   give rise smarter-than-human intelligence  fo...              714   \n",
       "4   machine intelligence invention humanity make ...              846   \n",
       "\n",
       "   Postive score  Negative score  Polarity_Score  Subjectivity Score  \\\n",
       "0       0.063863        0.037383        0.261538            0.000098   \n",
       "1       0.099462        0.077957        0.121212            0.000283   \n",
       "2       0.090385        0.048077        0.305556            0.000154   \n",
       "3       0.080882        0.053922        0.200000            0.000189   \n",
       "4       0.057728        0.042831        0.148148            0.000119   \n",
       "\n",
       "   no_of_sentence  AVG SENTENCE LENGTH  Average Number of Words Per Sentence  \\\n",
       "0              77            13.415584                             13.415584   \n",
       "1              68             9.205882                              9.205882   \n",
       "2              85            10.576471                             10.576471   \n",
       "3              83             8.602410                              8.602410   \n",
       "4              77            10.987013                             10.987013   \n",
       "\n",
       "   Word Count  Personal Pronouns  \n",
       "0        1033                695  \n",
       "1         626                378  \n",
       "2         899                636  \n",
       "3         714                425  \n",
       "4         846                509  "
      ]
     },
     "execution_count": 138,
     "metadata": {},
     "output_type": "execute_result"
    }
   ],
   "source": [
    "d1.head()"
   ]
  },
  {
   "cell_type": "markdown",
   "id": "b1d6a297",
   "metadata": {},
   "source": [
    "# avg_syllables_per_word"
   ]
  },
  {
   "cell_type": "code",
   "execution_count": 153,
   "id": "9db8edbd",
   "metadata": {},
   "outputs": [],
   "source": [
    "import spacy\n",
    "from textstat.textstat import textstatistics\n",
    "\n",
    "def break_sentences(text):\n",
    "    nlp = spacy.load('en_core_web_sm')\n",
    "    doc = nlp(text)\n",
    "    return list(doc.sents)\n",
    "\n",
    "# Returns Number of Words in the text\n",
    "def word_count(text):\n",
    "    sentences = break_sentences(text)\n",
    "    words = 0\n",
    "    for sentence in sentences:\n",
    "        words += len([token for token in sentence])\n",
    "    return words\n",
    "\n",
    "# Returns the number of sentences in the text\n",
    "def sentence_count(text):\n",
    "    sentences = break_sentences(text)\n",
    "    return len(sentences)\n",
    "\n",
    "# Returns average sentence length\n",
    "def avg_sentence_length(text):\n",
    "    words = word_count(text)\n",
    "    sentences = sentence_count(text)\n",
    "    average_sentence_length = float(words / sentences)\n",
    "    return average_sentence_length\n",
    "\n",
    "def syllables_count(word):\n",
    "    return textstatistics().syllable_count(word)\n",
    "\n",
    "# Returns the average number of syllables per\n",
    "# word in the text\n",
    "def avg_syllables_per_word(text):\n",
    "    syllable = syllables_count(text)\n",
    "    words = word_count(text)\n",
    "    ASPW = float(syllable) / float(words)\n",
    "    return ASPW"
   ]
  },
  {
   "cell_type": "code",
   "execution_count": 157,
   "id": "daaf3f38",
   "metadata": {},
   "outputs": [],
   "source": [
    "d1['SYLLABLE PER WORD']=d1['clean_data'].apply(lambda x:avg_syllables_per_word(x))"
   ]
  },
  {
   "cell_type": "code",
   "execution_count": 159,
   "id": "50769cb2",
   "metadata": {},
   "outputs": [
    {
     "data": {
      "text/html": [
       "<div>\n",
       "<style scoped>\n",
       "    .dataframe tbody tr th:only-of-type {\n",
       "        vertical-align: middle;\n",
       "    }\n",
       "\n",
       "    .dataframe tbody tr th {\n",
       "        vertical-align: top;\n",
       "    }\n",
       "\n",
       "    .dataframe thead th {\n",
       "        text-align: right;\n",
       "    }\n",
       "</style>\n",
       "<table border=\"1\" class=\"dataframe\">\n",
       "  <thead>\n",
       "    <tr style=\"text-align: right;\">\n",
       "      <th></th>\n",
       "      <th>Link_url</th>\n",
       "      <th>Header</th>\n",
       "      <th>Text</th>\n",
       "      <th>clean_data</th>\n",
       "      <th>Length_of_words</th>\n",
       "      <th>Postive score</th>\n",
       "      <th>Negative score</th>\n",
       "      <th>Polarity_Score</th>\n",
       "      <th>Subjectivity Score</th>\n",
       "      <th>no_of_sentence</th>\n",
       "      <th>AVG SENTENCE LENGTH</th>\n",
       "      <th>Average Number of Words Per Sentence</th>\n",
       "      <th>Word Count</th>\n",
       "      <th>Personal Pronouns</th>\n",
       "      <th>SYLLABLE PER WORD</th>\n",
       "    </tr>\n",
       "  </thead>\n",
       "  <tbody>\n",
       "    <tr>\n",
       "      <th>0</th>\n",
       "      <td>https://insights.blackcoffer.com/ai-in-healthc...</td>\n",
       "      <td>AI in healthcare to Improve Patient Outcomes</td>\n",
       "      <td>Introduction  “If anything kills over 10 mill...</td>\n",
       "      <td>introduction  kills 10 people decades  highly ...</td>\n",
       "      <td>1033</td>\n",
       "      <td>0.063863</td>\n",
       "      <td>0.037383</td>\n",
       "      <td>0.261538</td>\n",
       "      <td>0.000098</td>\n",
       "      <td>77</td>\n",
       "      <td>13.415584</td>\n",
       "      <td>13.415584</td>\n",
       "      <td>1033</td>\n",
       "      <td>695</td>\n",
       "      <td>1.833607</td>\n",
       "    </tr>\n",
       "    <tr>\n",
       "      <th>1</th>\n",
       "      <td>https://insights.blackcoffer.com/what-if-the-c...</td>\n",
       "      <td>What if the Creation is Taking Over the Creator?</td>\n",
       "      <td>Human minds, a fascination in itself carrying...</td>\n",
       "      <td>human minds  fascination carrying potential ti...</td>\n",
       "      <td>626</td>\n",
       "      <td>0.099462</td>\n",
       "      <td>0.077957</td>\n",
       "      <td>0.121212</td>\n",
       "      <td>0.000283</td>\n",
       "      <td>68</td>\n",
       "      <td>9.205882</td>\n",
       "      <td>9.205882</td>\n",
       "      <td>626</td>\n",
       "      <td>378</td>\n",
       "      <td>1.533163</td>\n",
       "    </tr>\n",
       "    <tr>\n",
       "      <th>2</th>\n",
       "      <td>https://insights.blackcoffer.com/what-jobs-wil...</td>\n",
       "      <td>What Jobs Will Robots Take From Humans in The ...</td>\n",
       "      <td>Introduction  AI is rapidly evolving in the e...</td>\n",
       "      <td>introduction rapidly evolving employment secto...</td>\n",
       "      <td>899</td>\n",
       "      <td>0.090385</td>\n",
       "      <td>0.048077</td>\n",
       "      <td>0.305556</td>\n",
       "      <td>0.000154</td>\n",
       "      <td>85</td>\n",
       "      <td>10.576471</td>\n",
       "      <td>10.576471</td>\n",
       "      <td>899</td>\n",
       "      <td>636</td>\n",
       "      <td>1.889428</td>\n",
       "    </tr>\n",
       "    <tr>\n",
       "      <th>3</th>\n",
       "      <td>https://insights.blackcoffer.com/will-machine-...</td>\n",
       "      <td>Will Machine Replace The Human in the Future o...</td>\n",
       "      <td>“Anything that could give rise to smarter-tha...</td>\n",
       "      <td>give rise smarter-than-human intelligence  fo...</td>\n",
       "      <td>714</td>\n",
       "      <td>0.080882</td>\n",
       "      <td>0.053922</td>\n",
       "      <td>0.200000</td>\n",
       "      <td>0.000189</td>\n",
       "      <td>83</td>\n",
       "      <td>8.602410</td>\n",
       "      <td>8.602410</td>\n",
       "      <td>714</td>\n",
       "      <td>425</td>\n",
       "      <td>1.673913</td>\n",
       "    </tr>\n",
       "    <tr>\n",
       "      <th>4</th>\n",
       "      <td>https://insights.blackcoffer.com/will-ai-repla...</td>\n",
       "      <td>Will AI Replace Us or Work With Us?</td>\n",
       "      <td>“Machine intelligence is the last invention t...</td>\n",
       "      <td>machine intelligence invention humanity make ...</td>\n",
       "      <td>846</td>\n",
       "      <td>0.057728</td>\n",
       "      <td>0.042831</td>\n",
       "      <td>0.148148</td>\n",
       "      <td>0.000119</td>\n",
       "      <td>77</td>\n",
       "      <td>10.987013</td>\n",
       "      <td>10.987013</td>\n",
       "      <td>846</td>\n",
       "      <td>509</td>\n",
       "      <td>1.699706</td>\n",
       "    </tr>\n",
       "  </tbody>\n",
       "</table>\n",
       "</div>"
      ],
      "text/plain": [
       "                                            Link_url  \\\n",
       "0  https://insights.blackcoffer.com/ai-in-healthc...   \n",
       "1  https://insights.blackcoffer.com/what-if-the-c...   \n",
       "2  https://insights.blackcoffer.com/what-jobs-wil...   \n",
       "3  https://insights.blackcoffer.com/will-machine-...   \n",
       "4  https://insights.blackcoffer.com/will-ai-repla...   \n",
       "\n",
       "                                              Header  \\\n",
       "0       AI in healthcare to Improve Patient Outcomes   \n",
       "1   What if the Creation is Taking Over the Creator?   \n",
       "2  What Jobs Will Robots Take From Humans in The ...   \n",
       "3  Will Machine Replace The Human in the Future o...   \n",
       "4                Will AI Replace Us or Work With Us?   \n",
       "\n",
       "                                                Text  \\\n",
       "0   Introduction  “If anything kills over 10 mill...   \n",
       "1   Human minds, a fascination in itself carrying...   \n",
       "2   Introduction  AI is rapidly evolving in the e...   \n",
       "3   “Anything that could give rise to smarter-tha...   \n",
       "4   “Machine intelligence is the last invention t...   \n",
       "\n",
       "                                          clean_data  Length_of_words  \\\n",
       "0  introduction  kills 10 people decades  highly ...             1033   \n",
       "1  human minds  fascination carrying potential ti...              626   \n",
       "2  introduction rapidly evolving employment secto...              899   \n",
       "3   give rise smarter-than-human intelligence  fo...              714   \n",
       "4   machine intelligence invention humanity make ...              846   \n",
       "\n",
       "   Postive score  Negative score  Polarity_Score  Subjectivity Score  \\\n",
       "0       0.063863        0.037383        0.261538            0.000098   \n",
       "1       0.099462        0.077957        0.121212            0.000283   \n",
       "2       0.090385        0.048077        0.305556            0.000154   \n",
       "3       0.080882        0.053922        0.200000            0.000189   \n",
       "4       0.057728        0.042831        0.148148            0.000119   \n",
       "\n",
       "   no_of_sentence  AVG SENTENCE LENGTH  Average Number of Words Per Sentence  \\\n",
       "0              77            13.415584                             13.415584   \n",
       "1              68             9.205882                              9.205882   \n",
       "2              85            10.576471                             10.576471   \n",
       "3              83             8.602410                              8.602410   \n",
       "4              77            10.987013                             10.987013   \n",
       "\n",
       "   Word Count  Personal Pronouns  SYLLABLE PER WORD  \n",
       "0        1033                695           1.833607  \n",
       "1         626                378           1.533163  \n",
       "2         899                636           1.889428  \n",
       "3         714                425           1.673913  \n",
       "4         846                509           1.699706  "
      ]
     },
     "execution_count": 159,
     "metadata": {},
     "output_type": "execute_result"
    }
   ],
   "source": [
    "d1.head()"
   ]
  },
  {
   "cell_type": "markdown",
   "id": "6a8018b9",
   "metadata": {},
   "source": [
    "# complex word cound , % complex word and fog index"
   ]
  },
  {
   "cell_type": "code",
   "execution_count": 165,
   "id": "076966d6",
   "metadata": {},
   "outputs": [
    {
     "data": {
      "text/plain": [
       "798"
      ]
     },
     "execution_count": 165,
     "metadata": {},
     "output_type": "execute_result"
    }
   ],
   "source": [
    "from collections import  Counter\n",
    "\n",
    "def complex_word_count(x):\n",
    "    \n",
    "    syllable = 'aeiou'\n",
    "    \n",
    "    t = x.split()\n",
    "    \n",
    "    v = []\n",
    "    \n",
    "    for i in t:\n",
    "        words = i.split()\n",
    "        c=Counter()\n",
    "        \n",
    "        for word in words:\n",
    "            c.update(set(word))\n",
    "\n",
    "        n = 0\n",
    "        for a in c.most_common():\n",
    "            if a[0] in syllable:\n",
    "                if a[1] >= 2:\n",
    "                    n += 1\n",
    "                \n",
    "        m = 0\n",
    "        p = []\n",
    "        for a in c.most_common():\n",
    "            if a[0] in syllable:\n",
    "                p.append(a[0])\n",
    "        if len(p) >= 2:\n",
    "            m += 1\n",
    "        \n",
    "        if n >= 1 or m >= 1:\n",
    "            v.append(i)\n",
    "            \n",
    "    return len(v) \n",
    "\n",
    "complex_word_count(d1['clean_data'][0])"
   ]
  },
  {
   "cell_type": "code",
   "execution_count": 166,
   "id": "c1abe331",
   "metadata": {},
   "outputs": [],
   "source": [
    "d1['Complex Word Count']=d1['clean_data'].apply(lambda x:complex_word_count(x))"
   ]
  },
  {
   "cell_type": "code",
   "execution_count": 167,
   "id": "ffa524da",
   "metadata": {},
   "outputs": [
    {
     "data": {
      "text/html": [
       "<div>\n",
       "<style scoped>\n",
       "    .dataframe tbody tr th:only-of-type {\n",
       "        vertical-align: middle;\n",
       "    }\n",
       "\n",
       "    .dataframe tbody tr th {\n",
       "        vertical-align: top;\n",
       "    }\n",
       "\n",
       "    .dataframe thead th {\n",
       "        text-align: right;\n",
       "    }\n",
       "</style>\n",
       "<table border=\"1\" class=\"dataframe\">\n",
       "  <thead>\n",
       "    <tr style=\"text-align: right;\">\n",
       "      <th></th>\n",
       "      <th>Link_url</th>\n",
       "      <th>Header</th>\n",
       "      <th>Text</th>\n",
       "      <th>clean_data</th>\n",
       "      <th>Length_of_words</th>\n",
       "      <th>Postive score</th>\n",
       "      <th>Negative score</th>\n",
       "      <th>Polarity_Score</th>\n",
       "      <th>Subjectivity Score</th>\n",
       "      <th>no_of_sentence</th>\n",
       "      <th>AVG SENTENCE LENGTH</th>\n",
       "      <th>Average Number of Words Per Sentence</th>\n",
       "      <th>Word Count</th>\n",
       "      <th>Personal Pronouns</th>\n",
       "      <th>SYLLABLE PER WORD</th>\n",
       "      <th>Complex Word Count</th>\n",
       "    </tr>\n",
       "  </thead>\n",
       "  <tbody>\n",
       "    <tr>\n",
       "      <th>0</th>\n",
       "      <td>https://insights.blackcoffer.com/ai-in-healthc...</td>\n",
       "      <td>AI in healthcare to Improve Patient Outcomes</td>\n",
       "      <td>Introduction  “If anything kills over 10 mill...</td>\n",
       "      <td>introduction  kills 10 people decades  highly ...</td>\n",
       "      <td>1033</td>\n",
       "      <td>0.063863</td>\n",
       "      <td>0.037383</td>\n",
       "      <td>0.261538</td>\n",
       "      <td>0.000098</td>\n",
       "      <td>77</td>\n",
       "      <td>13.415584</td>\n",
       "      <td>13.415584</td>\n",
       "      <td>1033</td>\n",
       "      <td>695</td>\n",
       "      <td>1.833607</td>\n",
       "      <td>798</td>\n",
       "    </tr>\n",
       "    <tr>\n",
       "      <th>1</th>\n",
       "      <td>https://insights.blackcoffer.com/what-if-the-c...</td>\n",
       "      <td>What if the Creation is Taking Over the Creator?</td>\n",
       "      <td>Human minds, a fascination in itself carrying...</td>\n",
       "      <td>human minds  fascination carrying potential ti...</td>\n",
       "      <td>626</td>\n",
       "      <td>0.099462</td>\n",
       "      <td>0.077957</td>\n",
       "      <td>0.121212</td>\n",
       "      <td>0.000283</td>\n",
       "      <td>68</td>\n",
       "      <td>9.205882</td>\n",
       "      <td>9.205882</td>\n",
       "      <td>626</td>\n",
       "      <td>378</td>\n",
       "      <td>1.533163</td>\n",
       "      <td>419</td>\n",
       "    </tr>\n",
       "    <tr>\n",
       "      <th>2</th>\n",
       "      <td>https://insights.blackcoffer.com/what-jobs-wil...</td>\n",
       "      <td>What Jobs Will Robots Take From Humans in The ...</td>\n",
       "      <td>Introduction  AI is rapidly evolving in the e...</td>\n",
       "      <td>introduction rapidly evolving employment secto...</td>\n",
       "      <td>899</td>\n",
       "      <td>0.090385</td>\n",
       "      <td>0.048077</td>\n",
       "      <td>0.305556</td>\n",
       "      <td>0.000154</td>\n",
       "      <td>85</td>\n",
       "      <td>10.576471</td>\n",
       "      <td>10.576471</td>\n",
       "      <td>899</td>\n",
       "      <td>636</td>\n",
       "      <td>1.889428</td>\n",
       "      <td>690</td>\n",
       "    </tr>\n",
       "    <tr>\n",
       "      <th>3</th>\n",
       "      <td>https://insights.blackcoffer.com/will-machine-...</td>\n",
       "      <td>Will Machine Replace The Human in the Future o...</td>\n",
       "      <td>“Anything that could give rise to smarter-tha...</td>\n",
       "      <td>give rise smarter-than-human intelligence  fo...</td>\n",
       "      <td>714</td>\n",
       "      <td>0.080882</td>\n",
       "      <td>0.053922</td>\n",
       "      <td>0.200000</td>\n",
       "      <td>0.000189</td>\n",
       "      <td>83</td>\n",
       "      <td>8.602410</td>\n",
       "      <td>8.602410</td>\n",
       "      <td>714</td>\n",
       "      <td>425</td>\n",
       "      <td>1.673913</td>\n",
       "      <td>499</td>\n",
       "    </tr>\n",
       "    <tr>\n",
       "      <th>4</th>\n",
       "      <td>https://insights.blackcoffer.com/will-ai-repla...</td>\n",
       "      <td>Will AI Replace Us or Work With Us?</td>\n",
       "      <td>“Machine intelligence is the last invention t...</td>\n",
       "      <td>machine intelligence invention humanity make ...</td>\n",
       "      <td>846</td>\n",
       "      <td>0.057728</td>\n",
       "      <td>0.042831</td>\n",
       "      <td>0.148148</td>\n",
       "      <td>0.000119</td>\n",
       "      <td>77</td>\n",
       "      <td>10.987013</td>\n",
       "      <td>10.987013</td>\n",
       "      <td>846</td>\n",
       "      <td>509</td>\n",
       "      <td>1.699706</td>\n",
       "      <td>608</td>\n",
       "    </tr>\n",
       "  </tbody>\n",
       "</table>\n",
       "</div>"
      ],
      "text/plain": [
       "                                            Link_url  \\\n",
       "0  https://insights.blackcoffer.com/ai-in-healthc...   \n",
       "1  https://insights.blackcoffer.com/what-if-the-c...   \n",
       "2  https://insights.blackcoffer.com/what-jobs-wil...   \n",
       "3  https://insights.blackcoffer.com/will-machine-...   \n",
       "4  https://insights.blackcoffer.com/will-ai-repla...   \n",
       "\n",
       "                                              Header  \\\n",
       "0       AI in healthcare to Improve Patient Outcomes   \n",
       "1   What if the Creation is Taking Over the Creator?   \n",
       "2  What Jobs Will Robots Take From Humans in The ...   \n",
       "3  Will Machine Replace The Human in the Future o...   \n",
       "4                Will AI Replace Us or Work With Us?   \n",
       "\n",
       "                                                Text  \\\n",
       "0   Introduction  “If anything kills over 10 mill...   \n",
       "1   Human minds, a fascination in itself carrying...   \n",
       "2   Introduction  AI is rapidly evolving in the e...   \n",
       "3   “Anything that could give rise to smarter-tha...   \n",
       "4   “Machine intelligence is the last invention t...   \n",
       "\n",
       "                                          clean_data  Length_of_words  \\\n",
       "0  introduction  kills 10 people decades  highly ...             1033   \n",
       "1  human minds  fascination carrying potential ti...              626   \n",
       "2  introduction rapidly evolving employment secto...              899   \n",
       "3   give rise smarter-than-human intelligence  fo...              714   \n",
       "4   machine intelligence invention humanity make ...              846   \n",
       "\n",
       "   Postive score  Negative score  Polarity_Score  Subjectivity Score  \\\n",
       "0       0.063863        0.037383        0.261538            0.000098   \n",
       "1       0.099462        0.077957        0.121212            0.000283   \n",
       "2       0.090385        0.048077        0.305556            0.000154   \n",
       "3       0.080882        0.053922        0.200000            0.000189   \n",
       "4       0.057728        0.042831        0.148148            0.000119   \n",
       "\n",
       "   no_of_sentence  AVG SENTENCE LENGTH  Average Number of Words Per Sentence  \\\n",
       "0              77            13.415584                             13.415584   \n",
       "1              68             9.205882                              9.205882   \n",
       "2              85            10.576471                             10.576471   \n",
       "3              83             8.602410                              8.602410   \n",
       "4              77            10.987013                             10.987013   \n",
       "\n",
       "   Word Count  Personal Pronouns  SYLLABLE PER WORD  Complex Word Count  \n",
       "0        1033                695           1.833607                 798  \n",
       "1         626                378           1.533163                 419  \n",
       "2         899                636           1.889428                 690  \n",
       "3         714                425           1.673913                 499  \n",
       "4         846                509           1.699706                 608  "
      ]
     },
     "execution_count": 167,
     "metadata": {},
     "output_type": "execute_result"
    }
   ],
   "source": [
    "d1.head()"
   ]
  },
  {
   "cell_type": "code",
   "execution_count": 168,
   "id": "fa1de1d7",
   "metadata": {},
   "outputs": [],
   "source": [
    "d1['Percentage of Complex words']=d1['Complex Word Count']*100/d1['Word Count']\n",
    "d1['Fog Index']=0.4*(d1['Percentage of Complex words']+d1['AVG SENTENCE LENGTH'])      \n",
    "    "
   ]
  },
  {
   "cell_type": "code",
   "execution_count": 169,
   "id": "9f5c7733",
   "metadata": {},
   "outputs": [
    {
     "data": {
      "text/html": [
       "<div>\n",
       "<style scoped>\n",
       "    .dataframe tbody tr th:only-of-type {\n",
       "        vertical-align: middle;\n",
       "    }\n",
       "\n",
       "    .dataframe tbody tr th {\n",
       "        vertical-align: top;\n",
       "    }\n",
       "\n",
       "    .dataframe thead th {\n",
       "        text-align: right;\n",
       "    }\n",
       "</style>\n",
       "<table border=\"1\" class=\"dataframe\">\n",
       "  <thead>\n",
       "    <tr style=\"text-align: right;\">\n",
       "      <th></th>\n",
       "      <th>Link_url</th>\n",
       "      <th>Header</th>\n",
       "      <th>Text</th>\n",
       "      <th>clean_data</th>\n",
       "      <th>Length_of_words</th>\n",
       "      <th>Postive score</th>\n",
       "      <th>Negative score</th>\n",
       "      <th>Polarity_Score</th>\n",
       "      <th>Subjectivity Score</th>\n",
       "      <th>no_of_sentence</th>\n",
       "      <th>AVG SENTENCE LENGTH</th>\n",
       "      <th>Average Number of Words Per Sentence</th>\n",
       "      <th>Word Count</th>\n",
       "      <th>Personal Pronouns</th>\n",
       "      <th>SYLLABLE PER WORD</th>\n",
       "      <th>Complex Word Count</th>\n",
       "      <th>Percentage of Complex words</th>\n",
       "      <th>Fog Index</th>\n",
       "    </tr>\n",
       "  </thead>\n",
       "  <tbody>\n",
       "    <tr>\n",
       "      <th>0</th>\n",
       "      <td>https://insights.blackcoffer.com/ai-in-healthc...</td>\n",
       "      <td>AI in healthcare to Improve Patient Outcomes</td>\n",
       "      <td>Introduction  “If anything kills over 10 mill...</td>\n",
       "      <td>introduction  kills 10 people decades  highly ...</td>\n",
       "      <td>1033</td>\n",
       "      <td>0.063863</td>\n",
       "      <td>0.037383</td>\n",
       "      <td>0.261538</td>\n",
       "      <td>0.000098</td>\n",
       "      <td>77</td>\n",
       "      <td>13.415584</td>\n",
       "      <td>13.415584</td>\n",
       "      <td>1033</td>\n",
       "      <td>695</td>\n",
       "      <td>1.833607</td>\n",
       "      <td>798</td>\n",
       "      <td>77.250726</td>\n",
       "      <td>36.266524</td>\n",
       "    </tr>\n",
       "    <tr>\n",
       "      <th>1</th>\n",
       "      <td>https://insights.blackcoffer.com/what-if-the-c...</td>\n",
       "      <td>What if the Creation is Taking Over the Creator?</td>\n",
       "      <td>Human minds, a fascination in itself carrying...</td>\n",
       "      <td>human minds  fascination carrying potential ti...</td>\n",
       "      <td>626</td>\n",
       "      <td>0.099462</td>\n",
       "      <td>0.077957</td>\n",
       "      <td>0.121212</td>\n",
       "      <td>0.000283</td>\n",
       "      <td>68</td>\n",
       "      <td>9.205882</td>\n",
       "      <td>9.205882</td>\n",
       "      <td>626</td>\n",
       "      <td>378</td>\n",
       "      <td>1.533163</td>\n",
       "      <td>419</td>\n",
       "      <td>66.932907</td>\n",
       "      <td>30.455516</td>\n",
       "    </tr>\n",
       "    <tr>\n",
       "      <th>2</th>\n",
       "      <td>https://insights.blackcoffer.com/what-jobs-wil...</td>\n",
       "      <td>What Jobs Will Robots Take From Humans in The ...</td>\n",
       "      <td>Introduction  AI is rapidly evolving in the e...</td>\n",
       "      <td>introduction rapidly evolving employment secto...</td>\n",
       "      <td>899</td>\n",
       "      <td>0.090385</td>\n",
       "      <td>0.048077</td>\n",
       "      <td>0.305556</td>\n",
       "      <td>0.000154</td>\n",
       "      <td>85</td>\n",
       "      <td>10.576471</td>\n",
       "      <td>10.576471</td>\n",
       "      <td>899</td>\n",
       "      <td>636</td>\n",
       "      <td>1.889428</td>\n",
       "      <td>690</td>\n",
       "      <td>76.751947</td>\n",
       "      <td>34.931367</td>\n",
       "    </tr>\n",
       "    <tr>\n",
       "      <th>3</th>\n",
       "      <td>https://insights.blackcoffer.com/will-machine-...</td>\n",
       "      <td>Will Machine Replace The Human in the Future o...</td>\n",
       "      <td>“Anything that could give rise to smarter-tha...</td>\n",
       "      <td>give rise smarter-than-human intelligence  fo...</td>\n",
       "      <td>714</td>\n",
       "      <td>0.080882</td>\n",
       "      <td>0.053922</td>\n",
       "      <td>0.200000</td>\n",
       "      <td>0.000189</td>\n",
       "      <td>83</td>\n",
       "      <td>8.602410</td>\n",
       "      <td>8.602410</td>\n",
       "      <td>714</td>\n",
       "      <td>425</td>\n",
       "      <td>1.673913</td>\n",
       "      <td>499</td>\n",
       "      <td>69.887955</td>\n",
       "      <td>31.396146</td>\n",
       "    </tr>\n",
       "    <tr>\n",
       "      <th>4</th>\n",
       "      <td>https://insights.blackcoffer.com/will-ai-repla...</td>\n",
       "      <td>Will AI Replace Us or Work With Us?</td>\n",
       "      <td>“Machine intelligence is the last invention t...</td>\n",
       "      <td>machine intelligence invention humanity make ...</td>\n",
       "      <td>846</td>\n",
       "      <td>0.057728</td>\n",
       "      <td>0.042831</td>\n",
       "      <td>0.148148</td>\n",
       "      <td>0.000119</td>\n",
       "      <td>77</td>\n",
       "      <td>10.987013</td>\n",
       "      <td>10.987013</td>\n",
       "      <td>846</td>\n",
       "      <td>509</td>\n",
       "      <td>1.699706</td>\n",
       "      <td>608</td>\n",
       "      <td>71.867612</td>\n",
       "      <td>33.141850</td>\n",
       "    </tr>\n",
       "  </tbody>\n",
       "</table>\n",
       "</div>"
      ],
      "text/plain": [
       "                                            Link_url  \\\n",
       "0  https://insights.blackcoffer.com/ai-in-healthc...   \n",
       "1  https://insights.blackcoffer.com/what-if-the-c...   \n",
       "2  https://insights.blackcoffer.com/what-jobs-wil...   \n",
       "3  https://insights.blackcoffer.com/will-machine-...   \n",
       "4  https://insights.blackcoffer.com/will-ai-repla...   \n",
       "\n",
       "                                              Header  \\\n",
       "0       AI in healthcare to Improve Patient Outcomes   \n",
       "1   What if the Creation is Taking Over the Creator?   \n",
       "2  What Jobs Will Robots Take From Humans in The ...   \n",
       "3  Will Machine Replace The Human in the Future o...   \n",
       "4                Will AI Replace Us or Work With Us?   \n",
       "\n",
       "                                                Text  \\\n",
       "0   Introduction  “If anything kills over 10 mill...   \n",
       "1   Human minds, a fascination in itself carrying...   \n",
       "2   Introduction  AI is rapidly evolving in the e...   \n",
       "3   “Anything that could give rise to smarter-tha...   \n",
       "4   “Machine intelligence is the last invention t...   \n",
       "\n",
       "                                          clean_data  Length_of_words  \\\n",
       "0  introduction  kills 10 people decades  highly ...             1033   \n",
       "1  human minds  fascination carrying potential ti...              626   \n",
       "2  introduction rapidly evolving employment secto...              899   \n",
       "3   give rise smarter-than-human intelligence  fo...              714   \n",
       "4   machine intelligence invention humanity make ...              846   \n",
       "\n",
       "   Postive score  Negative score  Polarity_Score  Subjectivity Score  \\\n",
       "0       0.063863        0.037383        0.261538            0.000098   \n",
       "1       0.099462        0.077957        0.121212            0.000283   \n",
       "2       0.090385        0.048077        0.305556            0.000154   \n",
       "3       0.080882        0.053922        0.200000            0.000189   \n",
       "4       0.057728        0.042831        0.148148            0.000119   \n",
       "\n",
       "   no_of_sentence  AVG SENTENCE LENGTH  Average Number of Words Per Sentence  \\\n",
       "0              77            13.415584                             13.415584   \n",
       "1              68             9.205882                              9.205882   \n",
       "2              85            10.576471                             10.576471   \n",
       "3              83             8.602410                              8.602410   \n",
       "4              77            10.987013                             10.987013   \n",
       "\n",
       "   Word Count  Personal Pronouns  SYLLABLE PER WORD  Complex Word Count  \\\n",
       "0        1033                695           1.833607                 798   \n",
       "1         626                378           1.533163                 419   \n",
       "2         899                636           1.889428                 690   \n",
       "3         714                425           1.673913                 499   \n",
       "4         846                509           1.699706                 608   \n",
       "\n",
       "   Percentage of Complex words  Fog Index  \n",
       "0                    77.250726  36.266524  \n",
       "1                    66.932907  30.455516  \n",
       "2                    76.751947  34.931367  \n",
       "3                    69.887955  31.396146  \n",
       "4                    71.867612  33.141850  "
      ]
     },
     "execution_count": 169,
     "metadata": {},
     "output_type": "execute_result"
    }
   ],
   "source": [
    "d1.head()"
   ]
  },
  {
   "cell_type": "code",
   "execution_count": 170,
   "id": "c1f8d292",
   "metadata": {},
   "outputs": [],
   "source": [
    "d1.to_excel(r'output.xlsx')"
   ]
  },
  {
   "cell_type": "code",
   "execution_count": null,
   "id": "93aa631a",
   "metadata": {},
   "outputs": [],
   "source": []
  }
 ],
 "metadata": {
  "celltoolbar": "Raw Cell Format",
  "kernelspec": {
   "display_name": "Python 3 (ipykernel)",
   "language": "python",
   "name": "python3"
  },
  "language_info": {
   "codemirror_mode": {
    "name": "ipython",
    "version": 3
   },
   "file_extension": ".py",
   "mimetype": "text/x-python",
   "name": "python",
   "nbconvert_exporter": "python",
   "pygments_lexer": "ipython3",
   "version": "3.9.12"
  }
 },
 "nbformat": 4,
 "nbformat_minor": 5
}
